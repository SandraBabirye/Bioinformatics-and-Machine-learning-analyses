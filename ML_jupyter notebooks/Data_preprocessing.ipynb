{
 "cells": [
  {
   "cell_type": "code",
   "execution_count": 1,
   "metadata": {},
   "outputs": [],
   "source": [
    "import pandas as pd\n",
    "import numpy as np\n",
    "import matplotlib as plt\n",
    "import seaborn as sn"
   ]
  },
  {
   "cell_type": "markdown",
   "metadata": {},
   "source": [
    "Read in the epidemiologcal dataset, Data exploration of the epidemiological dataset"
   ]
  },
  {
   "cell_type": "code",
   "execution_count": 17,
   "metadata": {},
   "outputs": [
    {
     "data": {
      "text/plain": [
       "(223, 10)"
      ]
     },
     "execution_count": 17,
     "metadata": {},
     "output_type": "execute_result"
    }
   ],
   "source": [
    "Epi_data = pd.read_csv(\"Clean_dataset_edited.csv\")\n",
    "Epi_data.shape"
   ]
  },
  {
   "cell_type": "code",
   "execution_count": 18,
   "metadata": {},
   "outputs": [
    {
     "data": {
      "text/html": [
       "<div>\n",
       "<style scoped>\n",
       "    .dataframe tbody tr th:only-of-type {\n",
       "        vertical-align: middle;\n",
       "    }\n",
       "\n",
       "    .dataframe tbody tr th {\n",
       "        vertical-align: top;\n",
       "    }\n",
       "\n",
       "    .dataframe thead th {\n",
       "        text-align: right;\n",
       "    }\n",
       "</style>\n",
       "<table border=\"1\" class=\"dataframe\">\n",
       "  <thead>\n",
       "    <tr style=\"text-align: right;\">\n",
       "      <th></th>\n",
       "      <th>Sample</th>\n",
       "      <th>HIV</th>\n",
       "      <th>AGE</th>\n",
       "      <th>SEX</th>\n",
       "      <th>STM</th>\n",
       "      <th>INH</th>\n",
       "      <th>RIF</th>\n",
       "      <th>EMB</th>\n",
       "      <th>ART</th>\n",
       "      <th>PREV.TB_TREATMENT</th>\n",
       "    </tr>\n",
       "  </thead>\n",
       "  <tbody>\n",
       "    <tr>\n",
       "      <th>0</th>\n",
       "      <td>ERR038736</td>\n",
       "      <td>0.0</td>\n",
       "      <td>30.0</td>\n",
       "      <td>F</td>\n",
       "      <td>0.0</td>\n",
       "      <td>1.0</td>\n",
       "      <td>1.0</td>\n",
       "      <td>1.0</td>\n",
       "      <td>N</td>\n",
       "      <td>Y</td>\n",
       "    </tr>\n",
       "    <tr>\n",
       "      <th>1</th>\n",
       "      <td>ERR038737</td>\n",
       "      <td>0.0</td>\n",
       "      <td>23.0</td>\n",
       "      <td>M</td>\n",
       "      <td>0.0</td>\n",
       "      <td>1.0</td>\n",
       "      <td>1.0</td>\n",
       "      <td>0.0</td>\n",
       "      <td>N</td>\n",
       "      <td>Y</td>\n",
       "    </tr>\n",
       "    <tr>\n",
       "      <th>2</th>\n",
       "      <td>ERR038738</td>\n",
       "      <td>0.0</td>\n",
       "      <td>20.0</td>\n",
       "      <td>M</td>\n",
       "      <td>1.0</td>\n",
       "      <td>1.0</td>\n",
       "      <td>1.0</td>\n",
       "      <td>1.0</td>\n",
       "      <td>N</td>\n",
       "      <td>Y</td>\n",
       "    </tr>\n",
       "    <tr>\n",
       "      <th>3</th>\n",
       "      <td>ERR038739</td>\n",
       "      <td>0.0</td>\n",
       "      <td>27.0</td>\n",
       "      <td>M</td>\n",
       "      <td>1.0</td>\n",
       "      <td>1.0</td>\n",
       "      <td>1.0</td>\n",
       "      <td>1.0</td>\n",
       "      <td>N</td>\n",
       "      <td>Y</td>\n",
       "    </tr>\n",
       "    <tr>\n",
       "      <th>4</th>\n",
       "      <td>ERR038740</td>\n",
       "      <td>0.0</td>\n",
       "      <td>48.0</td>\n",
       "      <td>F</td>\n",
       "      <td>0.0</td>\n",
       "      <td>1.0</td>\n",
       "      <td>1.0</td>\n",
       "      <td>1.0</td>\n",
       "      <td>N</td>\n",
       "      <td>Y</td>\n",
       "    </tr>\n",
       "  </tbody>\n",
       "</table>\n",
       "</div>"
      ],
      "text/plain": [
       "      Sample  HIV   AGE SEX  STM  INH  RIF  EMB ART PREV.TB_TREATMENT\n",
       "0  ERR038736  0.0  30.0   F  0.0  1.0  1.0  1.0   N                 Y\n",
       "1  ERR038737  0.0  23.0   M  0.0  1.0  1.0  0.0   N                 Y\n",
       "2  ERR038738  0.0  20.0   M  1.0  1.0  1.0  1.0   N                 Y\n",
       "3  ERR038739  0.0  27.0   M  1.0  1.0  1.0  1.0   N                 Y\n",
       "4  ERR038740  0.0  48.0   F  0.0  1.0  1.0  1.0   N                 Y"
      ]
     },
     "execution_count": 18,
     "metadata": {},
     "output_type": "execute_result"
    }
   ],
   "source": [
    "# Replace ARV values based on HIV status\n",
    "Epi_data.loc[Epi_data['HIV'] == 0, 'ART'] = 'N'\n",
    "Epi_data.head()"
   ]
  },
  {
   "cell_type": "code",
   "execution_count": 19,
   "metadata": {},
   "outputs": [
    {
     "name": "stdout",
     "output_type": "stream",
     "text": [
      "Missing values count per column:\n",
      "HIV                   41\n",
      "AGE                   40\n",
      "SEX                   40\n",
      "STM                   14\n",
      "INH                   14\n",
      "RIF                   14\n",
      "EMB                   14\n",
      "ART                  101\n",
      "PREV.TB_TREATMENT    151\n",
      "dtype: int64\n",
      "\n",
      "Total missing values in the DataFrame: 429\n"
     ]
    }
   ],
   "source": [
    "# Assuming 'Epi_data' is your DataFrame\n",
    "# Count NaNs for each column\n",
    "Copy = Epi_data.drop(columns=['Sample'])\n",
    "missing_values_count = Copy.isna().sum()\n",
    "\n",
    "# To get the total number of NaNs in the entire DataFrame, you can do:\n",
    "total_missing_values = missing_values_count.sum()\n",
    "\n",
    "print(\"Missing values count per column:\")\n",
    "print(missing_values_count)\n",
    "\n",
    "print(\"\\nTotal missing values in the DataFrame:\", total_missing_values)"
   ]
  },
  {
   "cell_type": "code",
   "execution_count": 21,
   "metadata": {},
   "outputs": [
    {
     "name": "stderr",
     "output_type": "stream",
     "text": [
      "/tmp/ipykernel_6468/1716997380.py:8: FutureWarning: \n",
      "\n",
      "Passing `palette` without assigning `hue` is deprecated and will be removed in v0.14.0. Assign the `x` variable to `hue` and set `legend=False` for the same effect.\n",
      "\n",
      "  sns.barplot(x=missing_values_count.index, y=missing_values_count.values, palette='viridis')\n"
     ]
    },
    {
     "data": {
      "image/png": "[encoded data removed]",
      "text/plain": [
       "<Figure size 1000x500 with 1 Axes>"
      ]
     },
     "metadata": {},
     "output_type": "display_data"
    }
   ],
   "source": [
    "import matplotlib.pyplot as plt\n",
    "import seaborn as sns\n",
    "\n",
    "# Assuming 'missing_values_count' is your DataFrame\n",
    "#missing_values_count = missing_values_count.drop(columns=['Sample'])\n",
    "\n",
    "plt.figure(figsize=(10, 5))\n",
    "sns.barplot(x=missing_values_count.index, y=missing_values_count.values, palette='viridis')\n",
    "\n",
    "# Add labels and title\n",
    "plt.xlabel('Columns')\n",
    "plt.ylabel('Missing Values Count')\n",
    "plt.title('Missing Values per Column')\n",
    "\n",
    "# Rotate x-axis labels for better visibility\n",
    "plt.xticks(rotation=45)\n",
    "\n",
    "# Attach missing value counts on the bars\n",
    "for i, v in enumerate(missing_values_count.values):\n",
    "    plt.text(i, v + 10, str(v), color='black', ha='center', va='top')\n",
    "\n",
    "# Save the plot with high resolution (300 dpi)\n",
    "plt.tight_layout()\n",
    "plt.savefig('ML_outputs/missing_values_plot.png', dpi=300)\n",
    "\n"
   ]
  },
  {
   "cell_type": "code",
   "execution_count": 69,
   "metadata": {},
   "outputs": [
    {
     "name": "stderr",
     "output_type": "stream",
     "text": [
      "/tmp/ipykernel_22962/457266365.py:8: FutureWarning: \n",
      "\n",
      "Passing `palette` without assigning `hue` is deprecated and will be removed in v0.14.0. Assign the `x` variable to `hue` and set `legend=False` for the same effect.\n",
      "\n",
      "  sns.barplot(x=missing_values_count.index, y=missing_values_count.values, palette='viridis')\n"
     ]
    },
    {
     "data": {
      "image/png": "[encoded data removed]",
      "text/plain": [
       "<Figure size 1000x500 with 1 Axes>"
      ]
     },
     "metadata": {},
     "output_type": "display_data"
    }
   ],
   "source": [
    "import matplotlib.pyplot as plt\n",
    "import seaborn as sns\n",
    "\n",
    "# Assuming 'missing_values_count' is a Series containing the missing values count per column\n",
    "\n",
    "# Create a bar plot\n",
    "plt.figure(figsize=(10, 5))\n",
    "sns.barplot(x=missing_values_count.index, y=missing_values_count.values, palette='viridis')\n",
    "\n",
    "# Add labels and title\n",
    "plt.xlabel('Columns')\n",
    "plt.ylabel('Missing Values Count')\n",
    "plt.title('Missing Values per Column')\n",
    "\n",
    "# Rotate x-axis labels for better visibility\n",
    "plt.xticks(rotation=45)\n",
    "\n",
    "# Show the plot\n",
    "plt.tight_layout()\n",
    "plt.show()\n"
   ]
  },
  {
   "cell_type": "code",
   "execution_count": 70,
   "metadata": {},
   "outputs": [
    {
     "data": {
      "text/plain": [
       "Sample                object\n",
       "HIV                  float64\n",
       "AGE                  float64\n",
       "SEX                   object\n",
       "STM                  float64\n",
       "INH                  float64\n",
       "RIF                  float64\n",
       "EMB                  float64\n",
       "ART                   object\n",
       "PREV.TB_TREATMENT     object\n",
       "dtype: object"
      ]
     },
     "execution_count": 70,
     "metadata": {},
     "output_type": "execute_result"
    }
   ],
   "source": [
    "Epi_data.dtypes"
   ]
  },
  {
   "cell_type": "code",
   "execution_count": 71,
   "metadata": {},
   "outputs": [],
   "source": [
    "# Just drop the samples\n",
    "# Drop rows with missing values in specific columns (e.g., 'column1' and 'column2')\n",
    "Epi_data_clean = Epi_data.dropna(subset=['RIF', 'STM', 'INH', 'EMB'])\n"
   ]
  },
  {
   "cell_type": "code",
   "execution_count": 72,
   "metadata": {},
   "outputs": [],
   "source": [
    "RIF_data_clean = Epi_data.dropna(subset=['RIF'])"
   ]
  },
  {
   "cell_type": "code",
   "execution_count": 73,
   "metadata": {},
   "outputs": [
    {
     "data": {
      "text/plain": [
       "(211, 10)"
      ]
     },
     "execution_count": 73,
     "metadata": {},
     "output_type": "execute_result"
    }
   ],
   "source": [
    "RIF_data_clean.shape"
   ]
  },
  {
   "cell_type": "code",
   "execution_count": 74,
   "metadata": {},
   "outputs": [
    {
     "data": {
      "text/plain": [
       "(211, 10)"
      ]
     },
     "execution_count": 74,
     "metadata": {},
     "output_type": "execute_result"
    }
   ],
   "source": [
    "Epi_data_clean.shape"
   ]
  },
  {
   "cell_type": "code",
   "execution_count": 75,
   "metadata": {},
   "outputs": [
    {
     "data": {
      "text/html": [
       "<div>\n",
       "<style scoped>\n",
       "    .dataframe tbody tr th:only-of-type {\n",
       "        vertical-align: middle;\n",
       "    }\n",
       "\n",
       "    .dataframe tbody tr th {\n",
       "        vertical-align: top;\n",
       "    }\n",
       "\n",
       "    .dataframe thead th {\n",
       "        text-align: right;\n",
       "    }\n",
       "</style>\n",
       "<table border=\"1\" class=\"dataframe\">\n",
       "  <thead>\n",
       "    <tr style=\"text-align: right;\">\n",
       "      <th></th>\n",
       "      <th>Sample</th>\n",
       "      <th>HIV</th>\n",
       "      <th>AGE</th>\n",
       "      <th>SEX</th>\n",
       "      <th>STM</th>\n",
       "      <th>INH</th>\n",
       "      <th>RIF</th>\n",
       "      <th>EMB</th>\n",
       "      <th>ART</th>\n",
       "      <th>PREV.TB_TREATMENT</th>\n",
       "    </tr>\n",
       "  </thead>\n",
       "  <tbody>\n",
       "    <tr>\n",
       "      <th>0</th>\n",
       "      <td>ERR038736</td>\n",
       "      <td>0.0</td>\n",
       "      <td>30.0</td>\n",
       "      <td>F</td>\n",
       "      <td>0.0</td>\n",
       "      <td>1.0</td>\n",
       "      <td>1.0</td>\n",
       "      <td>1.0</td>\n",
       "      <td>NaN</td>\n",
       "      <td>Y</td>\n",
       "    </tr>\n",
       "    <tr>\n",
       "      <th>1</th>\n",
       "      <td>ERR038737</td>\n",
       "      <td>0.0</td>\n",
       "      <td>23.0</td>\n",
       "      <td>M</td>\n",
       "      <td>0.0</td>\n",
       "      <td>1.0</td>\n",
       "      <td>1.0</td>\n",
       "      <td>0.0</td>\n",
       "      <td>NaN</td>\n",
       "      <td>Y</td>\n",
       "    </tr>\n",
       "    <tr>\n",
       "      <th>2</th>\n",
       "      <td>ERR038738</td>\n",
       "      <td>0.0</td>\n",
       "      <td>20.0</td>\n",
       "      <td>M</td>\n",
       "      <td>1.0</td>\n",
       "      <td>1.0</td>\n",
       "      <td>1.0</td>\n",
       "      <td>1.0</td>\n",
       "      <td>NaN</td>\n",
       "      <td>Y</td>\n",
       "    </tr>\n",
       "    <tr>\n",
       "      <th>3</th>\n",
       "      <td>ERR038739</td>\n",
       "      <td>0.0</td>\n",
       "      <td>27.0</td>\n",
       "      <td>M</td>\n",
       "      <td>1.0</td>\n",
       "      <td>1.0</td>\n",
       "      <td>1.0</td>\n",
       "      <td>1.0</td>\n",
       "      <td>NaN</td>\n",
       "      <td>Y</td>\n",
       "    </tr>\n",
       "    <tr>\n",
       "      <th>4</th>\n",
       "      <td>ERR038740</td>\n",
       "      <td>0.0</td>\n",
       "      <td>48.0</td>\n",
       "      <td>F</td>\n",
       "      <td>0.0</td>\n",
       "      <td>1.0</td>\n",
       "      <td>1.0</td>\n",
       "      <td>1.0</td>\n",
       "      <td>NaN</td>\n",
       "      <td>Y</td>\n",
       "    </tr>\n",
       "  </tbody>\n",
       "</table>\n",
       "</div>"
      ],
      "text/plain": [
       "      Sample  HIV   AGE SEX  STM  INH  RIF  EMB  ART PREV.TB_TREATMENT\n",
       "0  ERR038736  0.0  30.0   F  0.0  1.0  1.0  1.0  NaN                 Y\n",
       "1  ERR038737  0.0  23.0   M  0.0  1.0  1.0  0.0  NaN                 Y\n",
       "2  ERR038738  0.0  20.0   M  1.0  1.0  1.0  1.0  NaN                 Y\n",
       "3  ERR038739  0.0  27.0   M  1.0  1.0  1.0  1.0  NaN                 Y\n",
       "4  ERR038740  0.0  48.0   F  0.0  1.0  1.0  1.0  NaN                 Y"
      ]
     },
     "execution_count": 75,
     "metadata": {},
     "output_type": "execute_result"
    }
   ],
   "source": [
    "Epi_data.head()"
   ]
  },
  {
   "cell_type": "markdown",
   "metadata": {},
   "source": [
    "Converting multiple columns to categorcal\n"
   ]
  },
  {
   "cell_type": "code",
   "execution_count": 76,
   "metadata": {},
   "outputs": [
    {
     "data": {
      "text/plain": [
       "Sample                object\n",
       "HIV                  float64\n",
       "AGE                  float64\n",
       "SEX                   object\n",
       "STM                  float64\n",
       "INH                  float64\n",
       "RIF                  float64\n",
       "EMB                  float64\n",
       "ART                   object\n",
       "PREV.TB_TREATMENT     object\n",
       "dtype: object"
      ]
     },
     "execution_count": 76,
     "metadata": {},
     "output_type": "execute_result"
    }
   ],
   "source": [
    "Epi_data_clean.dtypes"
   ]
  },
  {
   "cell_type": "code",
   "execution_count": 77,
   "metadata": {},
   "outputs": [
    {
     "name": "stdout",
     "output_type": "stream",
     "text": [
      "Missing values count per column:\n",
      "Sample                 0\n",
      "HIV                   36\n",
      "AGE                   35\n",
      "SEX                   35\n",
      "STM                    0\n",
      "INH                    0\n",
      "RIF                    0\n",
      "EMB                    0\n",
      "ART                  187\n",
      "PREV.TB_TREATMENT    141\n",
      "dtype: int64\n",
      "\n",
      "Total missing values in the DataFrame: 434\n"
     ]
    }
   ],
   "source": [
    "# Assuming 'Epi_data' is your DataFrame\n",
    "# Count NaNs for each column\n",
    "missing_values_count = Epi_data_clean.isna().sum()\n",
    "\n",
    "# To get the total number of NaNs in the entire DataFrame, you can do:\n",
    "total_missing_values = missing_values_count.sum()\n",
    "\n",
    "print(\"Missing values count per column:\")\n",
    "print(missing_values_count)\n",
    "\n",
    "print(\"\\nTotal missing values in the DataFrame:\", total_missing_values)\n"
   ]
  },
  {
   "cell_type": "code",
   "execution_count": 78,
   "metadata": {},
   "outputs": [
    {
     "data": {
      "text/html": [
       "<div>\n",
       "<style scoped>\n",
       "    .dataframe tbody tr th:only-of-type {\n",
       "        vertical-align: middle;\n",
       "    }\n",
       "\n",
       "    .dataframe tbody tr th {\n",
       "        vertical-align: top;\n",
       "    }\n",
       "\n",
       "    .dataframe thead th {\n",
       "        text-align: right;\n",
       "    }\n",
       "</style>\n",
       "<table border=\"1\" class=\"dataframe\">\n",
       "  <thead>\n",
       "    <tr style=\"text-align: right;\">\n",
       "      <th></th>\n",
       "      <th>Sample</th>\n",
       "      <th>HIV</th>\n",
       "      <th>AGE</th>\n",
       "      <th>SEX</th>\n",
       "      <th>STM</th>\n",
       "      <th>INH</th>\n",
       "      <th>RIF</th>\n",
       "      <th>EMB</th>\n",
       "      <th>ART</th>\n",
       "      <th>PREV.TB_TREATMENT</th>\n",
       "    </tr>\n",
       "  </thead>\n",
       "  <tbody>\n",
       "    <tr>\n",
       "      <th>0</th>\n",
       "      <td>ERR038736</td>\n",
       "      <td>0.0</td>\n",
       "      <td>30.0</td>\n",
       "      <td>F</td>\n",
       "      <td>0.0</td>\n",
       "      <td>1.0</td>\n",
       "      <td>1.0</td>\n",
       "      <td>1.0</td>\n",
       "      <td>NaN</td>\n",
       "      <td>Y</td>\n",
       "    </tr>\n",
       "    <tr>\n",
       "      <th>1</th>\n",
       "      <td>ERR038737</td>\n",
       "      <td>0.0</td>\n",
       "      <td>23.0</td>\n",
       "      <td>M</td>\n",
       "      <td>0.0</td>\n",
       "      <td>1.0</td>\n",
       "      <td>1.0</td>\n",
       "      <td>0.0</td>\n",
       "      <td>NaN</td>\n",
       "      <td>Y</td>\n",
       "    </tr>\n",
       "    <tr>\n",
       "      <th>2</th>\n",
       "      <td>ERR038738</td>\n",
       "      <td>0.0</td>\n",
       "      <td>20.0</td>\n",
       "      <td>M</td>\n",
       "      <td>1.0</td>\n",
       "      <td>1.0</td>\n",
       "      <td>1.0</td>\n",
       "      <td>1.0</td>\n",
       "      <td>NaN</td>\n",
       "      <td>Y</td>\n",
       "    </tr>\n",
       "    <tr>\n",
       "      <th>3</th>\n",
       "      <td>ERR038739</td>\n",
       "      <td>0.0</td>\n",
       "      <td>27.0</td>\n",
       "      <td>M</td>\n",
       "      <td>1.0</td>\n",
       "      <td>1.0</td>\n",
       "      <td>1.0</td>\n",
       "      <td>1.0</td>\n",
       "      <td>NaN</td>\n",
       "      <td>Y</td>\n",
       "    </tr>\n",
       "    <tr>\n",
       "      <th>4</th>\n",
       "      <td>ERR038740</td>\n",
       "      <td>0.0</td>\n",
       "      <td>48.0</td>\n",
       "      <td>F</td>\n",
       "      <td>0.0</td>\n",
       "      <td>1.0</td>\n",
       "      <td>1.0</td>\n",
       "      <td>1.0</td>\n",
       "      <td>NaN</td>\n",
       "      <td>Y</td>\n",
       "    </tr>\n",
       "  </tbody>\n",
       "</table>\n",
       "</div>"
      ],
      "text/plain": [
       "      Sample  HIV   AGE SEX  STM  INH  RIF  EMB  ART PREV.TB_TREATMENT\n",
       "0  ERR038736  0.0  30.0   F  0.0  1.0  1.0  1.0  NaN                 Y\n",
       "1  ERR038737  0.0  23.0   M  0.0  1.0  1.0  0.0  NaN                 Y\n",
       "2  ERR038738  0.0  20.0   M  1.0  1.0  1.0  1.0  NaN                 Y\n",
       "3  ERR038739  0.0  27.0   M  1.0  1.0  1.0  1.0  NaN                 Y\n",
       "4  ERR038740  0.0  48.0   F  0.0  1.0  1.0  1.0  NaN                 Y"
      ]
     },
     "execution_count": 78,
     "metadata": {},
     "output_type": "execute_result"
    }
   ],
   "source": [
    "Epi_data_clean.head()"
   ]
  },
  {
   "cell_type": "code",
   "execution_count": 79,
   "metadata": {},
   "outputs": [
    {
     "name": "stderr",
     "output_type": "stream",
     "text": [
      "/tmp/ipykernel_22962/2637266433.py:3: SettingWithCopyWarning: \n",
      "A value is trying to be set on a copy of a slice from a DataFrame.\n",
      "Try using .loc[row_indexer,col_indexer] = value instead\n",
      "\n",
      "See the caveats in the documentation: https://pandas.pydata.org/pandas-docs/stable/user_guide/indexing.html#returning-a-view-versus-a-copy\n",
      "  Epi_data_clean.loc[:, columns_to_convert] = Epi_data_clean.loc[:, columns_to_convert].replace({'S': 0, 'R': 1})\n",
      "/tmp/ipykernel_22962/2637266433.py:4: SettingWithCopyWarning: \n",
      "A value is trying to be set on a copy of a slice from a DataFrame.\n",
      "Try using .loc[row_indexer,col_indexer] = value instead\n",
      "\n",
      "See the caveats in the documentation: https://pandas.pydata.org/pandas-docs/stable/user_guide/indexing.html#returning-a-view-versus-a-copy\n",
      "  Epi_data_clean.loc[:, columns_to_convert] = Epi_data_clean.loc[:, columns_to_convert].astype('category')\n",
      "/tmp/ipykernel_22962/2637266433.py:4: DeprecationWarning: In a future version, `df.iloc[:, i] = newvals` will attempt to set the values inplace instead of always setting a new array. To retain the old behavior, use either `df[df.columns[i]] = newvals` or, if columns are non-unique, `df.isetitem(i, newvals)`\n",
      "  Epi_data_clean.loc[:, columns_to_convert] = Epi_data_clean.loc[:, columns_to_convert].astype('category')\n"
     ]
    }
   ],
   "source": [
    "columns_to_convert = ['SEX', 'HIV', 'RIF', 'INH', 'EMB', 'STM', 'ART', 'PREV.TB_TREATMENT']\n",
    "\n",
    "Epi_data_clean.loc[:, columns_to_convert] = Epi_data_clean.loc[:, columns_to_convert].replace({'S': 0, 'R': 1})\n",
    "Epi_data_clean.loc[:, columns_to_convert] = Epi_data_clean.loc[:, columns_to_convert].astype('category')\n"
   ]
  },
  {
   "cell_type": "markdown",
   "metadata": {},
   "source": [
    "Imputation of data to obtain a complete dataset"
   ]
  },
  {
   "cell_type": "code",
   "execution_count": 80,
   "metadata": {},
   "outputs": [
    {
     "name": "stderr",
     "output_type": "stream",
     "text": [
      "/tmp/ipykernel_22962/466473774.py:9: SettingWithCopyWarning: \n",
      "A value is trying to be set on a copy of a slice from a DataFrame.\n",
      "Try using .loc[row_indexer,col_indexer] = value instead\n",
      "\n",
      "See the caveats in the documentation: https://pandas.pydata.org/pandas-docs/stable/user_guide/indexing.html#returning-a-view-versus-a-copy\n",
      "  Epi_data_clean[columns_to_impute] = imputer.fit_transform(Epi_data_clean[columns_to_impute])\n",
      "/tmp/ipykernel_22962/466473774.py:20: SettingWithCopyWarning: \n",
      "A value is trying to be set on a copy of a slice from a DataFrame.\n",
      "Try using .loc[row_indexer,col_indexer] = value instead\n",
      "\n",
      "See the caveats in the documentation: https://pandas.pydata.org/pandas-docs/stable/user_guide/indexing.html#returning-a-view-versus-a-copy\n",
      "  Epi_data_clean[columns_to_impute] = imputer.fit_transform(Epi_data_clean[columns_to_impute])\n"
     ]
    }
   ],
   "source": [
    "from sklearn.impute import SimpleImputer\n",
    "# Select columns to impute\n",
    "columns_to_impute = [\"AGE\"]\n",
    "\n",
    "# Initialize imputer\n",
    "imputer = SimpleImputer(strategy='mean')  # You can change the strategy if needed\n",
    "\n",
    "# Apply imputation to selected columns\n",
    "Epi_data_clean[columns_to_impute] = imputer.fit_transform(Epi_data_clean[columns_to_impute])\n",
    "\n",
    "# Impute the catergorical variables\n",
    "\n",
    "# Select columns to impute\n",
    "columns_to_impute = ['SEX', 'HIV']\n",
    "\n",
    "# Initialize imputer\n",
    "imputer = SimpleImputer(strategy='most_frequent')  \n",
    "\n",
    "# Apply imputation to selected columns\n",
    "Epi_data_clean[columns_to_impute] = imputer.fit_transform(Epi_data_clean[columns_to_impute])\n"
   ]
  },
  {
   "cell_type": "code",
   "execution_count": 81,
   "metadata": {},
   "outputs": [
    {
     "name": "stdout",
     "output_type": "stream",
     "text": [
      "Missing values count per column:\n",
      "Sample                 0\n",
      "HIV                    0\n",
      "AGE                    0\n",
      "SEX                    0\n",
      "STM                    0\n",
      "INH                    0\n",
      "RIF                    0\n",
      "EMB                    0\n",
      "ART                  187\n",
      "PREV.TB_TREATMENT    141\n",
      "dtype: int64\n",
      "\n",
      "Total missing values in the DataFrame: 328\n"
     ]
    },
    {
     "name": "stderr",
     "output_type": "stream",
     "text": [
      "/tmp/ipykernel_22962/2271190733.py:19: FutureWarning: \n",
      "\n",
      "Passing `palette` without assigning `hue` is deprecated and will be removed in v0.14.0. Assign the `x` variable to `hue` and set `legend=False` for the same effect.\n",
      "\n",
      "  sns.barplot(x=missing_values_count.index, y=missing_values_count.values, palette='viridis')\n"
     ]
    },
    {
     "data": {
      "image/png": "[encoded data removed]",
      "text/plain": [
       "<Figure size 1000x500 with 1 Axes>"
      ]
     },
     "metadata": {},
     "output_type": "display_data"
    }
   ],
   "source": [
    "# Assuming 'Epi_data' is your DataFrame\n",
    "# Count NaNs for each column\n",
    "missing_values_count = Epi_data_clean.isna().sum()\n",
    "\n",
    "# To get the total number of NaNs in the entire DataFrame, you can do:\n",
    "total_missing_values = missing_values_count.sum()\n",
    "\n",
    "print(\"Missing values count per column:\")\n",
    "print(missing_values_count)\n",
    "\n",
    "print(\"\\nTotal missing values in the DataFrame:\", total_missing_values)\n",
    "import matplotlib.pyplot as plt\n",
    "import seaborn as sns\n",
    "\n",
    "# Assuming 'missing_values_count' is a Series containing the missing values count per column\n",
    "\n",
    "# Create a bar plot\n",
    "plt.figure(figsize=(10, 5))\n",
    "sns.barplot(x=missing_values_count.index, y=missing_values_count.values, palette='viridis')\n",
    "\n",
    "# Add labels and title\n",
    "plt.xlabel('Columns')\n",
    "plt.ylabel('Missing Values Count')\n",
    "plt.title('Missing Values per Column')\n",
    "\n",
    "# Rotate x-axis labels for better visibility\n",
    "plt.xticks(rotation=45)\n",
    "\n",
    "# Show the plot\n",
    "plt.tight_layout()\n",
    "plt.show()"
   ]
  },
  {
   "cell_type": "code",
   "execution_count": 82,
   "metadata": {},
   "outputs": [
    {
     "data": {
      "text/html": [
       "<div>\n",
       "<style scoped>\n",
       "    .dataframe tbody tr th:only-of-type {\n",
       "        vertical-align: middle;\n",
       "    }\n",
       "\n",
       "    .dataframe tbody tr th {\n",
       "        vertical-align: top;\n",
       "    }\n",
       "\n",
       "    .dataframe thead th {\n",
       "        text-align: right;\n",
       "    }\n",
       "</style>\n",
       "<table border=\"1\" class=\"dataframe\">\n",
       "  <thead>\n",
       "    <tr style=\"text-align: right;\">\n",
       "      <th></th>\n",
       "      <th>Sample</th>\n",
       "      <th>HIV</th>\n",
       "      <th>AGE</th>\n",
       "      <th>SEX</th>\n",
       "      <th>STM</th>\n",
       "      <th>INH</th>\n",
       "      <th>RIF</th>\n",
       "      <th>EMB</th>\n",
       "      <th>ART</th>\n",
       "      <th>PREV.TB_TREATMENT</th>\n",
       "    </tr>\n",
       "  </thead>\n",
       "  <tbody>\n",
       "    <tr>\n",
       "      <th>0</th>\n",
       "      <td>ERR038736</td>\n",
       "      <td>0.0</td>\n",
       "      <td>30.0</td>\n",
       "      <td>F</td>\n",
       "      <td>0.0</td>\n",
       "      <td>1.0</td>\n",
       "      <td>1.0</td>\n",
       "      <td>1.0</td>\n",
       "      <td>NaN</td>\n",
       "      <td>Y</td>\n",
       "    </tr>\n",
       "    <tr>\n",
       "      <th>1</th>\n",
       "      <td>ERR038737</td>\n",
       "      <td>0.0</td>\n",
       "      <td>23.0</td>\n",
       "      <td>M</td>\n",
       "      <td>0.0</td>\n",
       "      <td>1.0</td>\n",
       "      <td>1.0</td>\n",
       "      <td>0.0</td>\n",
       "      <td>NaN</td>\n",
       "      <td>Y</td>\n",
       "    </tr>\n",
       "    <tr>\n",
       "      <th>2</th>\n",
       "      <td>ERR038738</td>\n",
       "      <td>0.0</td>\n",
       "      <td>20.0</td>\n",
       "      <td>M</td>\n",
       "      <td>1.0</td>\n",
       "      <td>1.0</td>\n",
       "      <td>1.0</td>\n",
       "      <td>1.0</td>\n",
       "      <td>NaN</td>\n",
       "      <td>Y</td>\n",
       "    </tr>\n",
       "    <tr>\n",
       "      <th>3</th>\n",
       "      <td>ERR038739</td>\n",
       "      <td>0.0</td>\n",
       "      <td>27.0</td>\n",
       "      <td>M</td>\n",
       "      <td>1.0</td>\n",
       "      <td>1.0</td>\n",
       "      <td>1.0</td>\n",
       "      <td>1.0</td>\n",
       "      <td>NaN</td>\n",
       "      <td>Y</td>\n",
       "    </tr>\n",
       "    <tr>\n",
       "      <th>4</th>\n",
       "      <td>ERR038740</td>\n",
       "      <td>0.0</td>\n",
       "      <td>48.0</td>\n",
       "      <td>F</td>\n",
       "      <td>0.0</td>\n",
       "      <td>1.0</td>\n",
       "      <td>1.0</td>\n",
       "      <td>1.0</td>\n",
       "      <td>NaN</td>\n",
       "      <td>Y</td>\n",
       "    </tr>\n",
       "  </tbody>\n",
       "</table>\n",
       "</div>"
      ],
      "text/plain": [
       "      Sample  HIV   AGE SEX  STM  INH  RIF  EMB  ART PREV.TB_TREATMENT\n",
       "0  ERR038736  0.0  30.0   F  0.0  1.0  1.0  1.0  NaN                 Y\n",
       "1  ERR038737  0.0  23.0   M  0.0  1.0  1.0  0.0  NaN                 Y\n",
       "2  ERR038738  0.0  20.0   M  1.0  1.0  1.0  1.0  NaN                 Y\n",
       "3  ERR038739  0.0  27.0   M  1.0  1.0  1.0  1.0  NaN                 Y\n",
       "4  ERR038740  0.0  48.0   F  0.0  1.0  1.0  1.0  NaN                 Y"
      ]
     },
     "execution_count": 82,
     "metadata": {},
     "output_type": "execute_result"
    }
   ],
   "source": [
    "Epi_data_clean.head()"
   ]
  },
  {
   "cell_type": "markdown",
   "metadata": {},
   "source": [
    "Checking for missingness in data"
   ]
  },
  {
   "cell_type": "markdown",
   "metadata": {},
   "source": [
    "Convert the age column to interger from float"
   ]
  },
  {
   "cell_type": "code",
   "execution_count": 46,
   "metadata": {},
   "outputs": [
    {
     "name": "stderr",
     "output_type": "stream",
     "text": [
      "/tmp/ipykernel_22962/3536434594.py:4: SettingWithCopyWarning: \n",
      "A value is trying to be set on a copy of a slice from a DataFrame.\n",
      "Try using .loc[row_indexer,col_indexer] = value instead\n",
      "\n",
      "See the caveats in the documentation: https://pandas.pydata.org/pandas-docs/stable/user_guide/indexing.html#returning-a-view-versus-a-copy\n",
      "  Epi_data_clean['AGE'] = Epi_data_clean['AGE'].apply(floor).astype(int)\n"
     ]
    }
   ],
   "source": [
    "from math import floor\n",
    "\n",
    "# Convert 'age' column to integer without rounding\n",
    "Epi_data_clean['AGE'] = Epi_data_clean['AGE'].apply(floor).astype(int)"
   ]
  },
  {
   "cell_type": "code",
   "execution_count": 83,
   "metadata": {},
   "outputs": [
    {
     "name": "stderr",
     "output_type": "stream",
     "text": [
      "/tmp/ipykernel_22962/1996856899.py:5: SettingWithCopyWarning: \n",
      "A value is trying to be set on a copy of a slice from a DataFrame.\n",
      "Try using .loc[row_indexer,col_indexer] = value instead\n",
      "\n",
      "See the caveats in the documentation: https://pandas.pydata.org/pandas-docs/stable/user_guide/indexing.html#returning-a-view-versus-a-copy\n",
      "  Epi_data_clean['SEX'] = Epi_data_clean['SEX'].map(sex_mapping)\n"
     ]
    }
   ],
   "source": [
    "# Define the mapping\n",
    "sex_mapping = {'M': 1, 'F': 0}\n",
    "\n",
    "# Apply the mapping to the 'sex' column\n",
    "Epi_data_clean['SEX'] = Epi_data_clean['SEX'].map(sex_mapping)"
   ]
  },
  {
   "cell_type": "code",
   "execution_count": 84,
   "metadata": {},
   "outputs": [
    {
     "data": {
      "text/html": [
       "<div>\n",
       "<style scoped>\n",
       "    .dataframe tbody tr th:only-of-type {\n",
       "        vertical-align: middle;\n",
       "    }\n",
       "\n",
       "    .dataframe tbody tr th {\n",
       "        vertical-align: top;\n",
       "    }\n",
       "\n",
       "    .dataframe thead th {\n",
       "        text-align: right;\n",
       "    }\n",
       "</style>\n",
       "<table border=\"1\" class=\"dataframe\">\n",
       "  <thead>\n",
       "    <tr style=\"text-align: right;\">\n",
       "      <th></th>\n",
       "      <th>Sample</th>\n",
       "      <th>HIV</th>\n",
       "      <th>AGE</th>\n",
       "      <th>SEX</th>\n",
       "      <th>STM</th>\n",
       "      <th>INH</th>\n",
       "      <th>RIF</th>\n",
       "      <th>EMB</th>\n",
       "      <th>ART</th>\n",
       "      <th>PREV.TB_TREATMENT</th>\n",
       "    </tr>\n",
       "  </thead>\n",
       "  <tbody>\n",
       "    <tr>\n",
       "      <th>0</th>\n",
       "      <td>ERR038736</td>\n",
       "      <td>0.0</td>\n",
       "      <td>30.0</td>\n",
       "      <td>0</td>\n",
       "      <td>0.0</td>\n",
       "      <td>1.0</td>\n",
       "      <td>1.0</td>\n",
       "      <td>1.0</td>\n",
       "      <td>NaN</td>\n",
       "      <td>Y</td>\n",
       "    </tr>\n",
       "    <tr>\n",
       "      <th>1</th>\n",
       "      <td>ERR038737</td>\n",
       "      <td>0.0</td>\n",
       "      <td>23.0</td>\n",
       "      <td>1</td>\n",
       "      <td>0.0</td>\n",
       "      <td>1.0</td>\n",
       "      <td>1.0</td>\n",
       "      <td>0.0</td>\n",
       "      <td>NaN</td>\n",
       "      <td>Y</td>\n",
       "    </tr>\n",
       "    <tr>\n",
       "      <th>2</th>\n",
       "      <td>ERR038738</td>\n",
       "      <td>0.0</td>\n",
       "      <td>20.0</td>\n",
       "      <td>1</td>\n",
       "      <td>1.0</td>\n",
       "      <td>1.0</td>\n",
       "      <td>1.0</td>\n",
       "      <td>1.0</td>\n",
       "      <td>NaN</td>\n",
       "      <td>Y</td>\n",
       "    </tr>\n",
       "    <tr>\n",
       "      <th>3</th>\n",
       "      <td>ERR038739</td>\n",
       "      <td>0.0</td>\n",
       "      <td>27.0</td>\n",
       "      <td>1</td>\n",
       "      <td>1.0</td>\n",
       "      <td>1.0</td>\n",
       "      <td>1.0</td>\n",
       "      <td>1.0</td>\n",
       "      <td>NaN</td>\n",
       "      <td>Y</td>\n",
       "    </tr>\n",
       "    <tr>\n",
       "      <th>4</th>\n",
       "      <td>ERR038740</td>\n",
       "      <td>0.0</td>\n",
       "      <td>48.0</td>\n",
       "      <td>0</td>\n",
       "      <td>0.0</td>\n",
       "      <td>1.0</td>\n",
       "      <td>1.0</td>\n",
       "      <td>1.0</td>\n",
       "      <td>NaN</td>\n",
       "      <td>Y</td>\n",
       "    </tr>\n",
       "  </tbody>\n",
       "</table>\n",
       "</div>"
      ],
      "text/plain": [
       "      Sample  HIV   AGE  SEX  STM  INH  RIF  EMB  ART PREV.TB_TREATMENT\n",
       "0  ERR038736  0.0  30.0    0  0.0  1.0  1.0  1.0  NaN                 Y\n",
       "1  ERR038737  0.0  23.0    1  0.0  1.0  1.0  0.0  NaN                 Y\n",
       "2  ERR038738  0.0  20.0    1  1.0  1.0  1.0  1.0  NaN                 Y\n",
       "3  ERR038739  0.0  27.0    1  1.0  1.0  1.0  1.0  NaN                 Y\n",
       "4  ERR038740  0.0  48.0    0  0.0  1.0  1.0  1.0  NaN                 Y"
      ]
     },
     "execution_count": 84,
     "metadata": {},
     "output_type": "execute_result"
    }
   ],
   "source": [
    "Epi_data_clean.head()"
   ]
  },
  {
   "cell_type": "code",
   "execution_count": 86,
   "metadata": {},
   "outputs": [
    {
     "name": "stderr",
     "output_type": "stream",
     "text": [
      "/tmp/ipykernel_22962/667782076.py:4: SettingWithCopyWarning: \n",
      "A value is trying to be set on a copy of a slice from a DataFrame.\n",
      "Try using .loc[row_indexer,col_indexer] = value instead\n",
      "\n",
      "See the caveats in the documentation: https://pandas.pydata.org/pandas-docs/stable/user_guide/indexing.html#returning-a-view-versus-a-copy\n",
      "  Epi_data_clean.loc[:, columns_to_convert] = Epi_data_clean.loc[:, columns_to_convert].astype('category')\n",
      "/tmp/ipykernel_22962/667782076.py:4: DeprecationWarning: In a future version, `df.iloc[:, i] = newvals` will attempt to set the values inplace instead of always setting a new array. To retain the old behavior, use either `df[df.columns[i]] = newvals` or, if columns are non-unique, `df.isetitem(i, newvals)`\n",
      "  Epi_data_clean.loc[:, columns_to_convert] = Epi_data_clean.loc[:, columns_to_convert].astype('category')\n"
     ]
    }
   ],
   "source": [
    "columns_to_convert = ['SEX', 'HIV']\n",
    "\n",
    "#Epi_data_clean.loc[:, columns_to_convert] = Epi_data_clean.loc[:, columns_to_convert].replace({'S': 0, 'R': 1})\n",
    "Epi_data_clean.loc[:, columns_to_convert] = Epi_data_clean.loc[:, columns_to_convert].astype('category')"
   ]
  },
  {
   "cell_type": "code",
   "execution_count": 87,
   "metadata": {},
   "outputs": [
    {
     "data": {
      "text/plain": [
       "Sample                 object\n",
       "HIV                  category\n",
       "AGE                   float64\n",
       "SEX                  category\n",
       "STM                  category\n",
       "INH                  category\n",
       "RIF                  category\n",
       "EMB                  category\n",
       "ART                  category\n",
       "PREV.TB_TREATMENT    category\n",
       "dtype: object"
      ]
     },
     "execution_count": 87,
     "metadata": {},
     "output_type": "execute_result"
    }
   ],
   "source": [
    "Epi_data_clean.dtypes"
   ]
  },
  {
   "cell_type": "code",
   "execution_count": 51,
   "metadata": {},
   "outputs": [
    {
     "ename": "ValueError",
     "evalue": "cannot convert float NaN to integer",
     "output_type": "error",
     "traceback": [
      "\u001b[0;31m---------------------------------------------------------------------------\u001b[0m",
      "\u001b[0;31mValueError\u001b[0m                                Traceback (most recent call last)",
      "Cell \u001b[0;32mIn[51], line 4\u001b[0m\n\u001b[1;32m      1\u001b[0m \u001b[38;5;28;01mfrom\u001b[39;00m \u001b[38;5;21;01mmath\u001b[39;00m \u001b[38;5;28;01mimport\u001b[39;00m floor\n\u001b[1;32m      3\u001b[0m \u001b[38;5;66;03m# Convert 'age' column to integer without rounding\u001b[39;00m\n\u001b[0;32m----> 4\u001b[0m Epi_data[\u001b[38;5;124m'\u001b[39m\u001b[38;5;124mAGE\u001b[39m\u001b[38;5;124m'\u001b[39m] \u001b[38;5;241m=\u001b[39m \u001b[43mEpi_data\u001b[49m\u001b[43m[\u001b[49m\u001b[38;5;124;43m'\u001b[39;49m\u001b[38;5;124;43mAGE\u001b[39;49m\u001b[38;5;124;43m'\u001b[39;49m\u001b[43m]\u001b[49m\u001b[38;5;241;43m.\u001b[39;49m\u001b[43mapply\u001b[49m\u001b[43m(\u001b[49m\u001b[43mfloor\u001b[49m\u001b[43m)\u001b[49m\u001b[38;5;241m.\u001b[39mastype(\u001b[38;5;28mint\u001b[39m)\n\u001b[1;32m      6\u001b[0m \u001b[38;5;66;03m# For all those who are HIV Negative by default they are not on ARV\u001b[39;00m\n\u001b[1;32m      7\u001b[0m \n\u001b[1;32m      8\u001b[0m \u001b[38;5;66;03m# Replace ARV values based on HIV status\u001b[39;00m\n\u001b[1;32m      9\u001b[0m Epi_data\u001b[38;5;241m.\u001b[39mloc[Epi_data[\u001b[38;5;124m'\u001b[39m\u001b[38;5;124mHIV\u001b[39m\u001b[38;5;124m'\u001b[39m] \u001b[38;5;241m==\u001b[39m \u001b[38;5;241m0\u001b[39m, \u001b[38;5;124m'\u001b[39m\u001b[38;5;124mART\u001b[39m\u001b[38;5;124m'\u001b[39m] \u001b[38;5;241m=\u001b[39m \u001b[38;5;124m'\u001b[39m\u001b[38;5;124mN\u001b[39m\u001b[38;5;124m'\u001b[39m\n",
      "File \u001b[0;32m~/.local/lib/python3.10/site-packages/pandas/core/series.py:4771\u001b[0m, in \u001b[0;36mSeries.apply\u001b[0;34m(self, func, convert_dtype, args, **kwargs)\u001b[0m\n\u001b[1;32m   4661\u001b[0m \u001b[38;5;28;01mdef\u001b[39;00m \u001b[38;5;21mapply\u001b[39m(\n\u001b[1;32m   4662\u001b[0m     \u001b[38;5;28mself\u001b[39m,\n\u001b[1;32m   4663\u001b[0m     func: AggFuncType,\n\u001b[0;32m   (...)\u001b[0m\n\u001b[1;32m   4666\u001b[0m     \u001b[38;5;241m*\u001b[39m\u001b[38;5;241m*\u001b[39mkwargs,\n\u001b[1;32m   4667\u001b[0m ) \u001b[38;5;241m-\u001b[39m\u001b[38;5;241m>\u001b[39m DataFrame \u001b[38;5;241m|\u001b[39m Series:\n\u001b[1;32m   4668\u001b[0m \u001b[38;5;250m    \u001b[39m\u001b[38;5;124;03m\"\"\"\u001b[39;00m\n\u001b[1;32m   4669\u001b[0m \u001b[38;5;124;03m    Invoke function on values of Series.\u001b[39;00m\n\u001b[1;32m   4670\u001b[0m \n\u001b[0;32m   (...)\u001b[0m\n\u001b[1;32m   4769\u001b[0m \u001b[38;5;124;03m    dtype: float64\u001b[39;00m\n\u001b[1;32m   4770\u001b[0m \u001b[38;5;124;03m    \"\"\"\u001b[39;00m\n\u001b[0;32m-> 4771\u001b[0m     \u001b[38;5;28;01mreturn\u001b[39;00m \u001b[43mSeriesApply\u001b[49m\u001b[43m(\u001b[49m\u001b[38;5;28;43mself\u001b[39;49m\u001b[43m,\u001b[49m\u001b[43m \u001b[49m\u001b[43mfunc\u001b[49m\u001b[43m,\u001b[49m\u001b[43m \u001b[49m\u001b[43mconvert_dtype\u001b[49m\u001b[43m,\u001b[49m\u001b[43m \u001b[49m\u001b[43margs\u001b[49m\u001b[43m,\u001b[49m\u001b[43m \u001b[49m\u001b[43mkwargs\u001b[49m\u001b[43m)\u001b[49m\u001b[38;5;241;43m.\u001b[39;49m\u001b[43mapply\u001b[49m\u001b[43m(\u001b[49m\u001b[43m)\u001b[49m\n",
      "File \u001b[0;32m~/.local/lib/python3.10/site-packages/pandas/core/apply.py:1123\u001b[0m, in \u001b[0;36mSeriesApply.apply\u001b[0;34m(self)\u001b[0m\n\u001b[1;32m   1120\u001b[0m     \u001b[38;5;28;01mreturn\u001b[39;00m \u001b[38;5;28mself\u001b[39m\u001b[38;5;241m.\u001b[39mapply_str()\n\u001b[1;32m   1122\u001b[0m \u001b[38;5;66;03m# self.f is Callable\u001b[39;00m\n\u001b[0;32m-> 1123\u001b[0m \u001b[38;5;28;01mreturn\u001b[39;00m \u001b[38;5;28;43mself\u001b[39;49m\u001b[38;5;241;43m.\u001b[39;49m\u001b[43mapply_standard\u001b[49m\u001b[43m(\u001b[49m\u001b[43m)\u001b[49m\n",
      "File \u001b[0;32m~/.local/lib/python3.10/site-packages/pandas/core/apply.py:1174\u001b[0m, in \u001b[0;36mSeriesApply.apply_standard\u001b[0;34m(self)\u001b[0m\n\u001b[1;32m   1172\u001b[0m     \u001b[38;5;28;01melse\u001b[39;00m:\n\u001b[1;32m   1173\u001b[0m         values \u001b[38;5;241m=\u001b[39m obj\u001b[38;5;241m.\u001b[39mastype(\u001b[38;5;28mobject\u001b[39m)\u001b[38;5;241m.\u001b[39m_values\n\u001b[0;32m-> 1174\u001b[0m         mapped \u001b[38;5;241m=\u001b[39m \u001b[43mlib\u001b[49m\u001b[38;5;241;43m.\u001b[39;49m\u001b[43mmap_infer\u001b[49m\u001b[43m(\u001b[49m\n\u001b[1;32m   1175\u001b[0m \u001b[43m            \u001b[49m\u001b[43mvalues\u001b[49m\u001b[43m,\u001b[49m\n\u001b[1;32m   1176\u001b[0m \u001b[43m            \u001b[49m\u001b[43mf\u001b[49m\u001b[43m,\u001b[49m\n\u001b[1;32m   1177\u001b[0m \u001b[43m            \u001b[49m\u001b[43mconvert\u001b[49m\u001b[38;5;241;43m=\u001b[39;49m\u001b[38;5;28;43mself\u001b[39;49m\u001b[38;5;241;43m.\u001b[39;49m\u001b[43mconvert_dtype\u001b[49m\u001b[43m,\u001b[49m\n\u001b[1;32m   1178\u001b[0m \u001b[43m        \u001b[49m\u001b[43m)\u001b[49m\n\u001b[1;32m   1180\u001b[0m \u001b[38;5;28;01mif\u001b[39;00m \u001b[38;5;28mlen\u001b[39m(mapped) \u001b[38;5;129;01mand\u001b[39;00m \u001b[38;5;28misinstance\u001b[39m(mapped[\u001b[38;5;241m0\u001b[39m], ABCSeries):\n\u001b[1;32m   1181\u001b[0m     \u001b[38;5;66;03m# GH#43986 Need to do list(mapped) in order to get treated as nested\u001b[39;00m\n\u001b[1;32m   1182\u001b[0m     \u001b[38;5;66;03m#  See also GH#25959 regarding EA support\u001b[39;00m\n\u001b[1;32m   1183\u001b[0m     \u001b[38;5;28;01mreturn\u001b[39;00m obj\u001b[38;5;241m.\u001b[39m_constructor_expanddim(\u001b[38;5;28mlist\u001b[39m(mapped), index\u001b[38;5;241m=\u001b[39mobj\u001b[38;5;241m.\u001b[39mindex)\n",
      "File \u001b[0;32m~/.local/lib/python3.10/site-packages/pandas/_libs/lib.pyx:2924\u001b[0m, in \u001b[0;36mpandas._libs.lib.map_infer\u001b[0;34m()\u001b[0m\n",
      "\u001b[0;31mValueError\u001b[0m: cannot convert float NaN to integer"
     ]
    }
   ],
   "source": [
    "from math import floor\n",
    "\n",
    "# Convert 'age' column to integer without rounding\n",
    "Epi_data['AGE'] = Epi_data['AGE'].apply(floor).astype(int)\n",
    "\n",
    "# For all those who are HIV Negative by default they are not on ARV\n",
    "\n",
    "# Replace ARV values based on HIV status\n",
    "Epi_data.loc[Epi_data['HIV'] == 0, 'ART'] = 'N'\n",
    "Epi_data.head()"
   ]
  },
  {
   "cell_type": "code",
   "execution_count": 56,
   "metadata": {},
   "outputs": [],
   "source": [
    "# Assuming 'Epi_data' is your DataFrame\n",
    "\n",
    "# Check if 'ART' and 'PREV.TB_TREATMENT' are categorical columns\n",
    "if pd.api.types.is_categorical_dtype(Epi_data['ART']):\n",
    "    Epi_data['ART'] = Epi_data['ART'].cat.add_categories('UNKNOWN')\n",
    "    Epi_data['ART'].fillna('UNKNOWN', inplace=True)\n",
    "else:\n",
    "    Epi_data['ART'].fillna('UNKNOWN', inplace=True)\n",
    "\n",
    "if pd.api.types.is_categorical_dtype(Epi_data['PREV.TB_TREATMENT']):\n",
    "    Epi_data['PREV.TB_TREATMENT'] = Epi_data['PREV.TB_TREATMENT'].cat.add_categories('UNKNOWN')\n",
    "    Epi_data['PREV.TB_TREATMENT'].fillna('UNKNOWN', inplace=True)\n",
    "else:\n",
    "    Epi_data['PREV.TB_TREATMENT'].fillna('UNKNOWN', inplace=True)\n"
   ]
  },
  {
   "cell_type": "code",
   "execution_count": 57,
   "metadata": {},
   "outputs": [
    {
     "name": "stdout",
     "output_type": "stream",
     "text": [
      "Missing values count per column:\n",
      "Sample               0\n",
      "HIV                  0\n",
      "AGE                  0\n",
      "SEX                  0\n",
      "STM                  0\n",
      "INH                  0\n",
      "RIF                  0\n",
      "EMB                  0\n",
      "ART                  0\n",
      "PREV.TB_TREATMENT    0\n",
      "dtype: int64\n",
      "\n",
      "Total missing values in the DataFrame: 0\n"
     ]
    }
   ],
   "source": [
    "# Assuming 'Epi_data' is your DataFrame\n",
    "# Count NaNs for each column\n",
    "missing_values_count = Epi_data.isna().sum()\n",
    "\n",
    "# To get the total number of NaNs in the entire DataFrame, you can do:\n",
    "total_missing_values = missing_values_count.sum()\n",
    "\n",
    "print(\"Missing values count per column:\")\n",
    "print(missing_values_count)\n",
    "\n",
    "print(\"\\nTotal missing values in the DataFrame:\", total_missing_values)\n"
   ]
  },
  {
   "cell_type": "code",
   "execution_count": 58,
   "metadata": {},
   "outputs": [
    {
     "name": "stderr",
     "output_type": "stream",
     "text": [
      "/tmp/ipykernel_16254/457266365.py:8: FutureWarning: \n",
      "\n",
      "Passing `palette` without assigning `hue` is deprecated and will be removed in v0.14.0. Assign the `x` variable to `hue` and set `legend=False` for the same effect.\n",
      "\n",
      "  sns.barplot(x=missing_values_count.index, y=missing_values_count.values, palette='viridis')\n"
     ]
    },
    {
     "data": {
      "image/png": "[encoded data removed]",
      "text/plain": [
       "<Figure size 1000x500 with 1 Axes>"
      ]
     },
     "metadata": {},
     "output_type": "display_data"
    }
   ],
   "source": [
    "import matplotlib.pyplot as plt\n",
    "import seaborn as sns\n",
    "\n",
    "# Assuming 'missing_values_count' is a Series containing the missing values count per column\n",
    "\n",
    "# Create a bar plot\n",
    "plt.figure(figsize=(10, 5))\n",
    "sns.barplot(x=missing_values_count.index, y=missing_values_count.values, palette='viridis')\n",
    "\n",
    "# Add labels and title\n",
    "plt.xlabel('Columns')\n",
    "plt.ylabel('Missing Values Count')\n",
    "plt.title('Missing Values per Column')\n",
    "\n",
    "# Rotate x-axis labels for better visibility\n",
    "plt.xticks(rotation=45)\n",
    "\n",
    "# Show the plot\n",
    "plt.tight_layout()\n",
    "plt.show()\n"
   ]
  },
  {
   "cell_type": "code",
   "execution_count": 59,
   "metadata": {},
   "outputs": [
    {
     "name": "stdout",
     "output_type": "stream",
     "text": [
      "Most common level: UNKNOWN\n"
     ]
    }
   ],
   "source": [
    "# checking the most common values in column for previous tb treatmnet\n",
    "\n",
    "# Get the counts of each category\n",
    "category_counts = Epi_data['PREV.TB_TREATMENT'].value_counts()\n",
    "\n",
    "# Get the most common level\n",
    "most_common_level = category_counts.idxmax()\n",
    "\n",
    "print(\"Most common level:\", most_common_level)\n"
   ]
  },
  {
   "cell_type": "code",
   "execution_count": 60,
   "metadata": {},
   "outputs": [
    {
     "name": "stdout",
     "output_type": "stream",
     "text": [
      "Most common level: N\n"
     ]
    }
   ],
   "source": [
    "# checking the most common values in column for previous tb treatmnet\n",
    "\n",
    "# Get the counts of each category\n",
    "category_counts = Epi_data['ART'].value_counts()\n",
    "\n",
    "# Get the most common level\n",
    "most_common_level = category_counts.idxmax()\n",
    "\n",
    "print(\"Most common level:\", most_common_level)"
   ]
  },
  {
   "cell_type": "markdown",
   "metadata": {},
   "source": [
    "Replacing the M in Sex column to 1, F to 0 and Y nd N in ARV and PREV.TB_TREATMENT columns to 1 and 0"
   ]
  },
  {
   "cell_type": "code",
   "execution_count": 36,
   "metadata": {},
   "outputs": [
    {
     "name": "stderr",
     "output_type": "stream",
     "text": [
      "/tmp/ipykernel_20930/3472778624.py:5: SettingWithCopyWarning: \n",
      "A value is trying to be set on a copy of a slice from a DataFrame.\n",
      "Try using .loc[row_indexer,col_indexer] = value instead\n",
      "\n",
      "See the caveats in the documentation: https://pandas.pydata.org/pandas-docs/stable/user_guide/indexing.html#returning-a-view-versus-a-copy\n",
      "  Epi_data_clean['ART'] = Epi_data_clean['ART'].map(ART_mapping)\n"
     ]
    }
   ],
   "source": [
    "# Define the mapping\n",
    "ART_mapping = {'Y': 1, 'N': 0, 'UNKNOWN' : 2}\n",
    "\n",
    "# Apply the mapping to the 'sex' column\n",
    "Epi_data_clean['ART'] = Epi_data_clean['ART'].map(ART_mapping)"
   ]
  },
  {
   "cell_type": "code",
   "execution_count": 37,
   "metadata": {},
   "outputs": [
    {
     "name": "stderr",
     "output_type": "stream",
     "text": [
      "/tmp/ipykernel_20930/2903106554.py:5: SettingWithCopyWarning: \n",
      "A value is trying to be set on a copy of a slice from a DataFrame.\n",
      "Try using .loc[row_indexer,col_indexer] = value instead\n",
      "\n",
      "See the caveats in the documentation: https://pandas.pydata.org/pandas-docs/stable/user_guide/indexing.html#returning-a-view-versus-a-copy\n",
      "  Epi_data_clean['PREV.TB_TREATMENT'] = Epi_data_clean['PREV.TB_TREATMENT'].map(TBRX_mapping)\n"
     ]
    }
   ],
   "source": [
    "# Define the mapping\n",
    "TBRX_mapping = {'Y': 1, 'N': 0, 'UNKNOWN' : 2}\n",
    "\n",
    "# Apply the mapping to the 'sex' column\n",
    "Epi_data_clean['PREV.TB_TREATMENT'] = Epi_data_clean['PREV.TB_TREATMENT'].map(TBRX_mapping)\n",
    "\n"
   ]
  },
  {
   "cell_type": "code",
   "execution_count": 18,
   "metadata": {},
   "outputs": [],
   "source": [
    "## NB exclude the column "
   ]
  },
  {
   "cell_type": "markdown",
   "metadata": {},
   "source": [
    "Saving the complete epidemiological dataset"
   ]
  },
  {
   "cell_type": "code",
   "execution_count": 88,
   "metadata": {},
   "outputs": [],
   "source": [
    "Epi_data_clean.to_csv(\"Epi_data_clean.csv\")"
   ]
  },
  {
   "cell_type": "markdown",
   "metadata": {},
   "source": [
    "Reading in the genomic dataset containg CHROM_POS,ALT and REF allele from Variant calling\n",
    "\n",
    "import os\n",
    "import pandas as pd\n",
    "\n",
    "Define the directory path\n",
    "directory_path = 'Extracted_info'\n",
    "\n",
    "Get a list of all .txt files in the directory\n",
    "txt_files = [f for f in os.listdir(directory_path) if f.endswith('.txt')]\n",
    "\n",
    "Loop through each .txt file\n",
    "for file_name in txt_files:\n",
    "    # Read the file into a DataFrame\n",
    "    file_path = os.path.join(directory_path, file_name)\n",
    "    df = pd.read_csv(file_path, sep='\\t')  # Assuming tab-separated, adjust if necessary\n",
    "    \n",
    "    # Rename columns\n",
    "    df.columns = ['CHROM_POS', 'REF', 'ALT']\n",
    "    \n",
    "    # Get sample name from file name\n",
    "    sample_name = os.path.splitext(file_name)[0]\n",
    "    df['Sample'] = sample_name\n",
    "    \n",
    "    # Save the modified DataFrame back to the file\n",
    "    df.to_csv(file_path, index=False, sep='\\t')  # Adjust delimiter if necessary\n",
    "\n"
   ]
  },
  {
   "cell_type": "markdown",
   "metadata": {},
   "source": [
    "OBtaining a merged dataframe for individual txt files per sample"
   ]
  },
  {
   "cell_type": "code",
   "execution_count": 21,
   "metadata": {},
   "outputs": [
    {
     "name": "stdout",
     "output_type": "stream",
     "text": [
      "Merged data saved as genomic_data.csv\n"
     ]
    }
   ],
   "source": [
    "import os\n",
    "import pandas as pd\n",
    "\n",
    "# Define the directory path where your .txt files are located\n",
    "directory_path = 'Extracted_info'\n",
    "\n",
    "# Get a list of all .txt files in the directory\n",
    "txt_files = [f for f in os.listdir(directory_path) if f.endswith('.txt')]\n",
    "\n",
    "# Create an empty list to store DataFrames\n",
    "geno_datas = []  # Corrected variable name\n",
    "\n",
    "# Loop through each .txt file\n",
    "for file_name in txt_files:\n",
    "    # Read the file into a DataFrame\n",
    "    file_path = os.path.join(directory_path, file_name)\n",
    "    geno_data = pd.read_csv(file_path, sep='\\t')  # Assuming tab-separated, adjust if necessary\n",
    "    \n",
    "    # Get sample name from file name\n",
    "    sample_name = os.path.splitext(file_name)[0]\n",
    "    \n",
    "    # Add Sample column\n",
    "    geno_data['Sample'] = sample_name\n",
    "    \n",
    "    # Append DataFrame to list\n",
    "    geno_datas.append(geno_data) \n",
    "\n",
    "# Concatenate DataFrames along the rows\n",
    "merged_df = pd.concat(geno_datas, ignore_index=True)\n",
    "\n",
    "# Save the merged DataFrame\n",
    "output_file_path = 'genomic_data.csv'\n",
    "#merged_df.to_csv(output_file_path, index=False)\n",
    "\n",
    "print(f'Merged data saved as {output_file_path}')\n"
   ]
  },
  {
   "cell_type": "code",
   "execution_count": 22,
   "metadata": {},
   "outputs": [
    {
     "data": {
      "text/plain": [
       "(213192, 4)"
      ]
     },
     "execution_count": 22,
     "metadata": {},
     "output_type": "execute_result"
    }
   ],
   "source": [
    "merged_df.shape"
   ]
  },
  {
   "cell_type": "code",
   "execution_count": 23,
   "metadata": {},
   "outputs": [
    {
     "data": {
      "text/html": [
       "<div>\n",
       "<style scoped>\n",
       "    .dataframe tbody tr th:only-of-type {\n",
       "        vertical-align: middle;\n",
       "    }\n",
       "\n",
       "    .dataframe tbody tr th {\n",
       "        vertical-align: top;\n",
       "    }\n",
       "\n",
       "    .dataframe thead th {\n",
       "        text-align: right;\n",
       "    }\n",
       "</style>\n",
       "<table border=\"1\" class=\"dataframe\">\n",
       "  <thead>\n",
       "    <tr style=\"text-align: right;\">\n",
       "      <th></th>\n",
       "      <th>CHROM_POS</th>\n",
       "      <th>REF</th>\n",
       "      <th>ALT</th>\n",
       "      <th>Sample</th>\n",
       "    </tr>\n",
       "  </thead>\n",
       "  <tbody>\n",
       "    <tr>\n",
       "      <th>0</th>\n",
       "      <td>4013</td>\n",
       "      <td>C</td>\n",
       "      <td>T</td>\n",
       "      <td>ERR038736</td>\n",
       "    </tr>\n",
       "    <tr>\n",
       "      <th>1</th>\n",
       "      <td>6140</td>\n",
       "      <td>T</td>\n",
       "      <td>G</td>\n",
       "      <td>ERR038736</td>\n",
       "    </tr>\n",
       "    <tr>\n",
       "      <th>2</th>\n",
       "      <td>7362</td>\n",
       "      <td>C</td>\n",
       "      <td>G</td>\n",
       "      <td>ERR038736</td>\n",
       "    </tr>\n",
       "    <tr>\n",
       "      <th>3</th>\n",
       "      <td>7585</td>\n",
       "      <td>C</td>\n",
       "      <td>G</td>\n",
       "      <td>ERR038736</td>\n",
       "    </tr>\n",
       "    <tr>\n",
       "      <th>4</th>\n",
       "      <td>9304</td>\n",
       "      <td>A</td>\n",
       "      <td>G</td>\n",
       "      <td>ERR038736</td>\n",
       "    </tr>\n",
       "  </tbody>\n",
       "</table>\n",
       "</div>"
      ],
      "text/plain": [
       "   CHROM_POS REF ALT     Sample\n",
       "0       4013   C   T  ERR038736\n",
       "1       6140   T   G  ERR038736\n",
       "2       7362   C   G  ERR038736\n",
       "3       7585   C   G  ERR038736\n",
       "4       9304   A   G  ERR038736"
      ]
     },
     "execution_count": 23,
     "metadata": {},
     "output_type": "execute_result"
    }
   ],
   "source": [
    "merged_df.head()"
   ]
  },
  {
   "cell_type": "markdown",
   "metadata": {},
   "source": [
    "Transposing the merged dataset to have the samples as the rows :SNP MATRIX"
   ]
  },
  {
   "cell_type": "code",
   "execution_count": 24,
   "metadata": {},
   "outputs": [],
   "source": [
    "# Assuming 'merged_df' contains your data\n",
    "\n",
    "# Get a list of all unique positions\n",
    "all_positions = merged_df['CHROM_POS'].unique()\n",
    "\n",
    "# Get a list of all unique samples\n",
    "all_samples = merged_df['Sample'].unique()\n",
    "\n",
    "# Create a new DataFrame with all combinations of positions and samples\n",
    "all_combinations = pd.DataFrame([(sample, pos) for sample in all_samples for pos in all_positions], \n",
    "                                columns=['Sample', 'CHROM_POS'])\n",
    "\n",
    "# Merge with the original DataFrame to fill in missing data\n",
    "merged_df = pd.merge(all_combinations, merged_df, on=['Sample', 'CHROM_POS'], how='left')\n",
    "\n",
    "# Reset the index to create a new default integer index\n",
    "merged_df.reset_index(drop=True, inplace=True)\n",
    "\n",
    "# Create a multi-index with 'Sample' and 'CHROM_POS'\n",
    "merged_df.set_index(['Sample', 'CHROM_POS'], inplace=True)\n",
    "\n",
    "# Unstack the 'CHROM_POS' level of the multi-index to pivot it into columns\n",
    "pivoted_df = merged_df.unstack(level='CHROM_POS')\n",
    "\n",
    "# Reset the index to convert 'Sample' to a column\n",
    "pivoted_df.reset_index(inplace=True)\n",
    "\n",
    "# Rename columns as 'CHROM_POS:REF' and 'CHROM_POS:ALT'\n",
    "pivoted_df.columns = [f'{col[1]}:{col[0]}' for col in pivoted_df.columns]\n",
    "\n",
    "pivoted_df.to_csv(\"snp_matrix.csv\")\n"
   ]
  },
  {
   "cell_type": "markdown",
   "metadata": {},
   "source": [
    "Merging the genomic dataset and the epidemiological dataset"
   ]
  },
  {
   "cell_type": "code",
   "execution_count": 89,
   "metadata": {},
   "outputs": [
    {
     "data": {
      "text/plain": [
       "Unnamed: 0     object\n",
       "POS_1552        int64\n",
       "POS_1908        int64\n",
       "POS_1977        int64\n",
       "POS_2423        int64\n",
       "                ...  \n",
       "POS_4410386     int64\n",
       "POS_4410765     int64\n",
       "POS_4411016     int64\n",
       "POS_4411276     int64\n",
       "POS_4411400     int64\n",
       "Length: 17632, dtype: object"
      ]
     },
     "execution_count": 89,
     "metadata": {},
     "output_type": "execute_result"
    }
   ],
   "source": [
    "snp_matrix = pd.read_csv(\"Snp_matrix_edited.csv\")\n",
    "snp_matrix.dtypes"
   ]
  },
  {
   "cell_type": "code",
   "execution_count": 90,
   "metadata": {},
   "outputs": [
    {
     "data": {
      "text/plain": [
       "(224, 17632)"
      ]
     },
     "execution_count": 90,
     "metadata": {},
     "output_type": "execute_result"
    }
   ],
   "source": [
    "snp_matrix.shape # There were 17632 variants obtained in the samples"
   ]
  },
  {
   "cell_type": "code",
   "execution_count": 91,
   "metadata": {},
   "outputs": [
    {
     "data": {
      "text/html": [
       "<div>\n",
       "<style scoped>\n",
       "    .dataframe tbody tr th:only-of-type {\n",
       "        vertical-align: middle;\n",
       "    }\n",
       "\n",
       "    .dataframe tbody tr th {\n",
       "        vertical-align: top;\n",
       "    }\n",
       "\n",
       "    .dataframe thead th {\n",
       "        text-align: right;\n",
       "    }\n",
       "</style>\n",
       "<table border=\"1\" class=\"dataframe\">\n",
       "  <thead>\n",
       "    <tr style=\"text-align: right;\">\n",
       "      <th></th>\n",
       "      <th>Unnamed: 0</th>\n",
       "      <th>POS_1552</th>\n",
       "      <th>POS_1908</th>\n",
       "      <th>POS_1977</th>\n",
       "      <th>POS_2423</th>\n",
       "      <th>POS_2532</th>\n",
       "      <th>POS_2540</th>\n",
       "      <th>POS_2632</th>\n",
       "      <th>POS_2883</th>\n",
       "      <th>POS_3446</th>\n",
       "      <th>...</th>\n",
       "      <th>POS_4409794</th>\n",
       "      <th>POS_4409954</th>\n",
       "      <th>POS_4410142</th>\n",
       "      <th>POS_4410178</th>\n",
       "      <th>POS_4410212</th>\n",
       "      <th>POS_4410386</th>\n",
       "      <th>POS_4410765</th>\n",
       "      <th>POS_4411016</th>\n",
       "      <th>POS_4411276</th>\n",
       "      <th>POS_4411400</th>\n",
       "    </tr>\n",
       "  </thead>\n",
       "  <tbody>\n",
       "    <tr>\n",
       "      <th>0</th>\n",
       "      <td>ERR038736</td>\n",
       "      <td>0</td>\n",
       "      <td>0</td>\n",
       "      <td>0</td>\n",
       "      <td>0</td>\n",
       "      <td>0</td>\n",
       "      <td>0</td>\n",
       "      <td>0</td>\n",
       "      <td>0</td>\n",
       "      <td>0</td>\n",
       "      <td>...</td>\n",
       "      <td>0</td>\n",
       "      <td>0</td>\n",
       "      <td>0</td>\n",
       "      <td>0</td>\n",
       "      <td>0</td>\n",
       "      <td>0</td>\n",
       "      <td>0</td>\n",
       "      <td>0</td>\n",
       "      <td>0</td>\n",
       "      <td>0</td>\n",
       "    </tr>\n",
       "    <tr>\n",
       "      <th>1</th>\n",
       "      <td>ERR038737</td>\n",
       "      <td>0</td>\n",
       "      <td>0</td>\n",
       "      <td>0</td>\n",
       "      <td>0</td>\n",
       "      <td>0</td>\n",
       "      <td>0</td>\n",
       "      <td>0</td>\n",
       "      <td>0</td>\n",
       "      <td>0</td>\n",
       "      <td>...</td>\n",
       "      <td>0</td>\n",
       "      <td>0</td>\n",
       "      <td>0</td>\n",
       "      <td>0</td>\n",
       "      <td>0</td>\n",
       "      <td>0</td>\n",
       "      <td>0</td>\n",
       "      <td>0</td>\n",
       "      <td>0</td>\n",
       "      <td>0</td>\n",
       "    </tr>\n",
       "    <tr>\n",
       "      <th>2</th>\n",
       "      <td>ERR038738</td>\n",
       "      <td>0</td>\n",
       "      <td>0</td>\n",
       "      <td>1</td>\n",
       "      <td>0</td>\n",
       "      <td>0</td>\n",
       "      <td>0</td>\n",
       "      <td>0</td>\n",
       "      <td>0</td>\n",
       "      <td>0</td>\n",
       "      <td>...</td>\n",
       "      <td>0</td>\n",
       "      <td>0</td>\n",
       "      <td>0</td>\n",
       "      <td>0</td>\n",
       "      <td>0</td>\n",
       "      <td>0</td>\n",
       "      <td>0</td>\n",
       "      <td>0</td>\n",
       "      <td>0</td>\n",
       "      <td>0</td>\n",
       "    </tr>\n",
       "    <tr>\n",
       "      <th>3</th>\n",
       "      <td>ERR038739</td>\n",
       "      <td>0</td>\n",
       "      <td>0</td>\n",
       "      <td>0</td>\n",
       "      <td>0</td>\n",
       "      <td>0</td>\n",
       "      <td>1</td>\n",
       "      <td>0</td>\n",
       "      <td>0</td>\n",
       "      <td>0</td>\n",
       "      <td>...</td>\n",
       "      <td>0</td>\n",
       "      <td>0</td>\n",
       "      <td>0</td>\n",
       "      <td>0</td>\n",
       "      <td>0</td>\n",
       "      <td>0</td>\n",
       "      <td>0</td>\n",
       "      <td>0</td>\n",
       "      <td>0</td>\n",
       "      <td>0</td>\n",
       "    </tr>\n",
       "    <tr>\n",
       "      <th>4</th>\n",
       "      <td>ERR038740</td>\n",
       "      <td>0</td>\n",
       "      <td>0</td>\n",
       "      <td>0</td>\n",
       "      <td>0</td>\n",
       "      <td>0</td>\n",
       "      <td>1</td>\n",
       "      <td>0</td>\n",
       "      <td>0</td>\n",
       "      <td>0</td>\n",
       "      <td>...</td>\n",
       "      <td>0</td>\n",
       "      <td>0</td>\n",
       "      <td>0</td>\n",
       "      <td>0</td>\n",
       "      <td>0</td>\n",
       "      <td>0</td>\n",
       "      <td>0</td>\n",
       "      <td>0</td>\n",
       "      <td>0</td>\n",
       "      <td>0</td>\n",
       "    </tr>\n",
       "  </tbody>\n",
       "</table>\n",
       "<p>5 rows × 17632 columns</p>\n",
       "</div>"
      ],
      "text/plain": [
       "  Unnamed: 0  POS_1552  POS_1908  POS_1977  POS_2423  POS_2532  POS_2540  \\\n",
       "0  ERR038736         0         0         0         0         0         0   \n",
       "1  ERR038737         0         0         0         0         0         0   \n",
       "2  ERR038738         0         0         1         0         0         0   \n",
       "3  ERR038739         0         0         0         0         0         1   \n",
       "4  ERR038740         0         0         0         0         0         1   \n",
       "\n",
       "   POS_2632  POS_2883  POS_3446  ...  POS_4409794  POS_4409954  POS_4410142  \\\n",
       "0         0         0         0  ...            0            0            0   \n",
       "1         0         0         0  ...            0            0            0   \n",
       "2         0         0         0  ...            0            0            0   \n",
       "3         0         0         0  ...            0            0            0   \n",
       "4         0         0         0  ...            0            0            0   \n",
       "\n",
       "   POS_4410178  POS_4410212  POS_4410386  POS_4410765  POS_4411016  \\\n",
       "0            0            0            0            0            0   \n",
       "1            0            0            0            0            0   \n",
       "2            0            0            0            0            0   \n",
       "3            0            0            0            0            0   \n",
       "4            0            0            0            0            0   \n",
       "\n",
       "   POS_4411276  POS_4411400  \n",
       "0            0            0  \n",
       "1            0            0  \n",
       "2            0            0  \n",
       "3            0            0  \n",
       "4            0            0  \n",
       "\n",
       "[5 rows x 17632 columns]"
      ]
     },
     "execution_count": 91,
     "metadata": {},
     "output_type": "execute_result"
    }
   ],
   "source": [
    "snp_matrix.head()"
   ]
  },
  {
   "cell_type": "code",
   "execution_count": 93,
   "metadata": {},
   "outputs": [],
   "source": [
    "# Naming the unnamed column in python\n",
    "\n",
    "snp_matrix = snp_matrix.rename(columns={snp_matrix.columns[0]: 'Sample'})"
   ]
  },
  {
   "cell_type": "code",
   "execution_count": 94,
   "metadata": {},
   "outputs": [
    {
     "data": {
      "text/html": [
       "<div>\n",
       "<style scoped>\n",
       "    .dataframe tbody tr th:only-of-type {\n",
       "        vertical-align: middle;\n",
       "    }\n",
       "\n",
       "    .dataframe tbody tr th {\n",
       "        vertical-align: top;\n",
       "    }\n",
       "\n",
       "    .dataframe thead th {\n",
       "        text-align: right;\n",
       "    }\n",
       "</style>\n",
       "<table border=\"1\" class=\"dataframe\">\n",
       "  <thead>\n",
       "    <tr style=\"text-align: right;\">\n",
       "      <th></th>\n",
       "      <th>Sample</th>\n",
       "      <th>POS_1552</th>\n",
       "      <th>POS_1908</th>\n",
       "      <th>POS_1977</th>\n",
       "      <th>POS_2423</th>\n",
       "      <th>POS_2532</th>\n",
       "      <th>POS_2540</th>\n",
       "      <th>POS_2632</th>\n",
       "      <th>POS_2883</th>\n",
       "      <th>POS_3446</th>\n",
       "      <th>...</th>\n",
       "      <th>POS_4409794</th>\n",
       "      <th>POS_4409954</th>\n",
       "      <th>POS_4410142</th>\n",
       "      <th>POS_4410178</th>\n",
       "      <th>POS_4410212</th>\n",
       "      <th>POS_4410386</th>\n",
       "      <th>POS_4410765</th>\n",
       "      <th>POS_4411016</th>\n",
       "      <th>POS_4411276</th>\n",
       "      <th>POS_4411400</th>\n",
       "    </tr>\n",
       "  </thead>\n",
       "  <tbody>\n",
       "    <tr>\n",
       "      <th>0</th>\n",
       "      <td>ERR038736</td>\n",
       "      <td>0</td>\n",
       "      <td>0</td>\n",
       "      <td>0</td>\n",
       "      <td>0</td>\n",
       "      <td>0</td>\n",
       "      <td>0</td>\n",
       "      <td>0</td>\n",
       "      <td>0</td>\n",
       "      <td>0</td>\n",
       "      <td>...</td>\n",
       "      <td>0</td>\n",
       "      <td>0</td>\n",
       "      <td>0</td>\n",
       "      <td>0</td>\n",
       "      <td>0</td>\n",
       "      <td>0</td>\n",
       "      <td>0</td>\n",
       "      <td>0</td>\n",
       "      <td>0</td>\n",
       "      <td>0</td>\n",
       "    </tr>\n",
       "    <tr>\n",
       "      <th>1</th>\n",
       "      <td>ERR038737</td>\n",
       "      <td>0</td>\n",
       "      <td>0</td>\n",
       "      <td>0</td>\n",
       "      <td>0</td>\n",
       "      <td>0</td>\n",
       "      <td>0</td>\n",
       "      <td>0</td>\n",
       "      <td>0</td>\n",
       "      <td>0</td>\n",
       "      <td>...</td>\n",
       "      <td>0</td>\n",
       "      <td>0</td>\n",
       "      <td>0</td>\n",
       "      <td>0</td>\n",
       "      <td>0</td>\n",
       "      <td>0</td>\n",
       "      <td>0</td>\n",
       "      <td>0</td>\n",
       "      <td>0</td>\n",
       "      <td>0</td>\n",
       "    </tr>\n",
       "    <tr>\n",
       "      <th>2</th>\n",
       "      <td>ERR038738</td>\n",
       "      <td>0</td>\n",
       "      <td>0</td>\n",
       "      <td>1</td>\n",
       "      <td>0</td>\n",
       "      <td>0</td>\n",
       "      <td>0</td>\n",
       "      <td>0</td>\n",
       "      <td>0</td>\n",
       "      <td>0</td>\n",
       "      <td>...</td>\n",
       "      <td>0</td>\n",
       "      <td>0</td>\n",
       "      <td>0</td>\n",
       "      <td>0</td>\n",
       "      <td>0</td>\n",
       "      <td>0</td>\n",
       "      <td>0</td>\n",
       "      <td>0</td>\n",
       "      <td>0</td>\n",
       "      <td>0</td>\n",
       "    </tr>\n",
       "    <tr>\n",
       "      <th>3</th>\n",
       "      <td>ERR038739</td>\n",
       "      <td>0</td>\n",
       "      <td>0</td>\n",
       "      <td>0</td>\n",
       "      <td>0</td>\n",
       "      <td>0</td>\n",
       "      <td>1</td>\n",
       "      <td>0</td>\n",
       "      <td>0</td>\n",
       "      <td>0</td>\n",
       "      <td>...</td>\n",
       "      <td>0</td>\n",
       "      <td>0</td>\n",
       "      <td>0</td>\n",
       "      <td>0</td>\n",
       "      <td>0</td>\n",
       "      <td>0</td>\n",
       "      <td>0</td>\n",
       "      <td>0</td>\n",
       "      <td>0</td>\n",
       "      <td>0</td>\n",
       "    </tr>\n",
       "    <tr>\n",
       "      <th>4</th>\n",
       "      <td>ERR038740</td>\n",
       "      <td>0</td>\n",
       "      <td>0</td>\n",
       "      <td>0</td>\n",
       "      <td>0</td>\n",
       "      <td>0</td>\n",
       "      <td>1</td>\n",
       "      <td>0</td>\n",
       "      <td>0</td>\n",
       "      <td>0</td>\n",
       "      <td>...</td>\n",
       "      <td>0</td>\n",
       "      <td>0</td>\n",
       "      <td>0</td>\n",
       "      <td>0</td>\n",
       "      <td>0</td>\n",
       "      <td>0</td>\n",
       "      <td>0</td>\n",
       "      <td>0</td>\n",
       "      <td>0</td>\n",
       "      <td>0</td>\n",
       "    </tr>\n",
       "  </tbody>\n",
       "</table>\n",
       "<p>5 rows × 17632 columns</p>\n",
       "</div>"
      ],
      "text/plain": [
       "      Sample  POS_1552  POS_1908  POS_1977  POS_2423  POS_2532  POS_2540  \\\n",
       "0  ERR038736         0         0         0         0         0         0   \n",
       "1  ERR038737         0         0         0         0         0         0   \n",
       "2  ERR038738         0         0         1         0         0         0   \n",
       "3  ERR038739         0         0         0         0         0         1   \n",
       "4  ERR038740         0         0         0         0         0         1   \n",
       "\n",
       "   POS_2632  POS_2883  POS_3446  ...  POS_4409794  POS_4409954  POS_4410142  \\\n",
       "0         0         0         0  ...            0            0            0   \n",
       "1         0         0         0  ...            0            0            0   \n",
       "2         0         0         0  ...            0            0            0   \n",
       "3         0         0         0  ...            0            0            0   \n",
       "4         0         0         0  ...            0            0            0   \n",
       "\n",
       "   POS_4410178  POS_4410212  POS_4410386  POS_4410765  POS_4411016  \\\n",
       "0            0            0            0            0            0   \n",
       "1            0            0            0            0            0   \n",
       "2            0            0            0            0            0   \n",
       "3            0            0            0            0            0   \n",
       "4            0            0            0            0            0   \n",
       "\n",
       "   POS_4411276  POS_4411400  \n",
       "0            0            0  \n",
       "1            0            0  \n",
       "2            0            0  \n",
       "3            0            0  \n",
       "4            0            0  \n",
       "\n",
       "[5 rows x 17632 columns]"
      ]
     },
     "execution_count": 94,
     "metadata": {},
     "output_type": "execute_result"
    }
   ],
   "source": [
    "snp_matrix.head()"
   ]
  },
  {
   "cell_type": "code",
   "execution_count": 95,
   "metadata": {},
   "outputs": [],
   "source": [
    "# Converting columns to categorical\n",
    "# Get a list of column names (excluding 'Sample')\n",
    "columns_to_convert = [col for col in snp_matrix.columns if col != 'Sample']\n",
    "\n",
    "# Convert selected columns to categorical\n",
    "for col in columns_to_convert:\n",
    "    snp_matrix[col] = snp_matrix[col].astype('category')\n",
    "\n"
   ]
  },
  {
   "cell_type": "code",
   "execution_count": 96,
   "metadata": {},
   "outputs": [
    {
     "data": {
      "text/plain": [
       "Sample           object\n",
       "POS_1552       category\n",
       "POS_1908       category\n",
       "POS_1977       category\n",
       "POS_2423       category\n",
       "                 ...   \n",
       "POS_4410386    category\n",
       "POS_4410765    category\n",
       "POS_4411016    category\n",
       "POS_4411276    category\n",
       "POS_4411400    category\n",
       "Length: 17632, dtype: object"
      ]
     },
     "execution_count": 96,
     "metadata": {},
     "output_type": "execute_result"
    }
   ],
   "source": [
    "snp_matrix.dtypes"
   ]
  },
  {
   "cell_type": "code",
   "execution_count": 97,
   "metadata": {},
   "outputs": [],
   "source": [
    "# Merging two datasets in python sharing a column name\n",
    "\n",
    "# Merge the two DataFrames on the 'Sample' column\n",
    "merged_data = pd.merge(Epi_data_clean,snp_matrix, on='Sample', how='inner')"
   ]
  },
  {
   "cell_type": "code",
   "execution_count": 98,
   "metadata": {},
   "outputs": [
    {
     "data": {
      "text/html": [
       "<div>\n",
       "<style scoped>\n",
       "    .dataframe tbody tr th:only-of-type {\n",
       "        vertical-align: middle;\n",
       "    }\n",
       "\n",
       "    .dataframe tbody tr th {\n",
       "        vertical-align: top;\n",
       "    }\n",
       "\n",
       "    .dataframe thead th {\n",
       "        text-align: right;\n",
       "    }\n",
       "</style>\n",
       "<table border=\"1\" class=\"dataframe\">\n",
       "  <thead>\n",
       "    <tr style=\"text-align: right;\">\n",
       "      <th></th>\n",
       "      <th>Sample</th>\n",
       "      <th>HIV</th>\n",
       "      <th>AGE</th>\n",
       "      <th>SEX</th>\n",
       "      <th>STM</th>\n",
       "      <th>INH</th>\n",
       "      <th>RIF</th>\n",
       "      <th>EMB</th>\n",
       "      <th>ART</th>\n",
       "      <th>PREV.TB_TREATMENT</th>\n",
       "      <th>...</th>\n",
       "      <th>POS_4409794</th>\n",
       "      <th>POS_4409954</th>\n",
       "      <th>POS_4410142</th>\n",
       "      <th>POS_4410178</th>\n",
       "      <th>POS_4410212</th>\n",
       "      <th>POS_4410386</th>\n",
       "      <th>POS_4410765</th>\n",
       "      <th>POS_4411016</th>\n",
       "      <th>POS_4411276</th>\n",
       "      <th>POS_4411400</th>\n",
       "    </tr>\n",
       "  </thead>\n",
       "  <tbody>\n",
       "    <tr>\n",
       "      <th>198</th>\n",
       "      <td>SRR7535088</td>\n",
       "      <td>1.0</td>\n",
       "      <td>33.000000</td>\n",
       "      <td>1</td>\n",
       "      <td>0.0</td>\n",
       "      <td>0.0</td>\n",
       "      <td>0.0</td>\n",
       "      <td>0.0</td>\n",
       "      <td>NaN</td>\n",
       "      <td>NaN</td>\n",
       "      <td>...</td>\n",
       "      <td>0</td>\n",
       "      <td>0</td>\n",
       "      <td>0</td>\n",
       "      <td>0</td>\n",
       "      <td>0</td>\n",
       "      <td>0</td>\n",
       "      <td>0</td>\n",
       "      <td>0</td>\n",
       "      <td>0</td>\n",
       "      <td>0</td>\n",
       "    </tr>\n",
       "    <tr>\n",
       "      <th>199</th>\n",
       "      <td>SRR7535090</td>\n",
       "      <td>1.0</td>\n",
       "      <td>27.000000</td>\n",
       "      <td>0</td>\n",
       "      <td>0.0</td>\n",
       "      <td>1.0</td>\n",
       "      <td>0.0</td>\n",
       "      <td>0.0</td>\n",
       "      <td>NaN</td>\n",
       "      <td>NaN</td>\n",
       "      <td>...</td>\n",
       "      <td>0</td>\n",
       "      <td>0</td>\n",
       "      <td>0</td>\n",
       "      <td>0</td>\n",
       "      <td>0</td>\n",
       "      <td>0</td>\n",
       "      <td>0</td>\n",
       "      <td>0</td>\n",
       "      <td>0</td>\n",
       "      <td>0</td>\n",
       "    </tr>\n",
       "    <tr>\n",
       "      <th>200</th>\n",
       "      <td>SRR7535091</td>\n",
       "      <td>0.0</td>\n",
       "      <td>34.840909</td>\n",
       "      <td>1</td>\n",
       "      <td>0.0</td>\n",
       "      <td>0.0</td>\n",
       "      <td>0.0</td>\n",
       "      <td>0.0</td>\n",
       "      <td>NaN</td>\n",
       "      <td>NaN</td>\n",
       "      <td>...</td>\n",
       "      <td>0</td>\n",
       "      <td>0</td>\n",
       "      <td>0</td>\n",
       "      <td>0</td>\n",
       "      <td>0</td>\n",
       "      <td>0</td>\n",
       "      <td>0</td>\n",
       "      <td>0</td>\n",
       "      <td>0</td>\n",
       "      <td>0</td>\n",
       "    </tr>\n",
       "    <tr>\n",
       "      <th>201</th>\n",
       "      <td>SRR7535093</td>\n",
       "      <td>1.0</td>\n",
       "      <td>23.000000</td>\n",
       "      <td>0</td>\n",
       "      <td>0.0</td>\n",
       "      <td>0.0</td>\n",
       "      <td>0.0</td>\n",
       "      <td>0.0</td>\n",
       "      <td>NaN</td>\n",
       "      <td>NaN</td>\n",
       "      <td>...</td>\n",
       "      <td>0</td>\n",
       "      <td>0</td>\n",
       "      <td>0</td>\n",
       "      <td>0</td>\n",
       "      <td>0</td>\n",
       "      <td>0</td>\n",
       "      <td>0</td>\n",
       "      <td>0</td>\n",
       "      <td>0</td>\n",
       "      <td>0</td>\n",
       "    </tr>\n",
       "    <tr>\n",
       "      <th>202</th>\n",
       "      <td>SRR7535094</td>\n",
       "      <td>0.0</td>\n",
       "      <td>34.840909</td>\n",
       "      <td>1</td>\n",
       "      <td>0.0</td>\n",
       "      <td>0.0</td>\n",
       "      <td>0.0</td>\n",
       "      <td>0.0</td>\n",
       "      <td>NaN</td>\n",
       "      <td>NaN</td>\n",
       "      <td>...</td>\n",
       "      <td>0</td>\n",
       "      <td>0</td>\n",
       "      <td>0</td>\n",
       "      <td>0</td>\n",
       "      <td>0</td>\n",
       "      <td>0</td>\n",
       "      <td>0</td>\n",
       "      <td>0</td>\n",
       "      <td>0</td>\n",
       "      <td>0</td>\n",
       "    </tr>\n",
       "  </tbody>\n",
       "</table>\n",
       "<p>5 rows × 17641 columns</p>\n",
       "</div>"
      ],
      "text/plain": [
       "         Sample  HIV        AGE SEX  STM  INH  RIF  EMB  ART  \\\n",
       "198  SRR7535088  1.0  33.000000   1  0.0  0.0  0.0  0.0  NaN   \n",
       "199  SRR7535090  1.0  27.000000   0  0.0  1.0  0.0  0.0  NaN   \n",
       "200  SRR7535091  0.0  34.840909   1  0.0  0.0  0.0  0.0  NaN   \n",
       "201  SRR7535093  1.0  23.000000   0  0.0  0.0  0.0  0.0  NaN   \n",
       "202  SRR7535094  0.0  34.840909   1  0.0  0.0  0.0  0.0  NaN   \n",
       "\n",
       "    PREV.TB_TREATMENT  ... POS_4409794 POS_4409954 POS_4410142 POS_4410178  \\\n",
       "198               NaN  ...           0           0           0           0   \n",
       "199               NaN  ...           0           0           0           0   \n",
       "200               NaN  ...           0           0           0           0   \n",
       "201               NaN  ...           0           0           0           0   \n",
       "202               NaN  ...           0           0           0           0   \n",
       "\n",
       "    POS_4410212 POS_4410386 POS_4410765 POS_4411016 POS_4411276 POS_4411400  \n",
       "198           0           0           0           0           0           0  \n",
       "199           0           0           0           0           0           0  \n",
       "200           0           0           0           0           0           0  \n",
       "201           0           0           0           0           0           0  \n",
       "202           0           0           0           0           0           0  \n",
       "\n",
       "[5 rows x 17641 columns]"
      ]
     },
     "execution_count": 98,
     "metadata": {},
     "output_type": "execute_result"
    }
   ],
   "source": [
    "merged_data.tail(n=5)"
   ]
  },
  {
   "cell_type": "code",
   "execution_count": 99,
   "metadata": {},
   "outputs": [
    {
     "data": {
      "text/plain": [
       "Sample           object\n",
       "HIV            category\n",
       "AGE             float64\n",
       "SEX            category\n",
       "STM            category\n",
       "                 ...   \n",
       "POS_4410386    category\n",
       "POS_4410765    category\n",
       "POS_4411016    category\n",
       "POS_4411276    category\n",
       "POS_4411400    category\n",
       "Length: 17641, dtype: object"
      ]
     },
     "execution_count": 99,
     "metadata": {},
     "output_type": "execute_result"
    }
   ],
   "source": [
    "merged_data.dtypes"
   ]
  },
  {
   "cell_type": "code",
   "execution_count": 100,
   "metadata": {},
   "outputs": [],
   "source": [
    "# Converting columns to catergorical\n",
    "columns_to_convert = ['SEX', 'HIV', 'RIF', 'INH', 'EMB', 'STM', 'ART', 'PREV.TB_TREATMENT']\n",
    "\n",
    "merged_data[columns_to_convert] = merged_data[columns_to_convert].astype('category')\n"
   ]
  },
  {
   "cell_type": "code",
   "execution_count": 101,
   "metadata": {},
   "outputs": [
    {
     "data": {
      "text/html": [
       "<div>\n",
       "<style scoped>\n",
       "    .dataframe tbody tr th:only-of-type {\n",
       "        vertical-align: middle;\n",
       "    }\n",
       "\n",
       "    .dataframe tbody tr th {\n",
       "        vertical-align: top;\n",
       "    }\n",
       "\n",
       "    .dataframe thead th {\n",
       "        text-align: right;\n",
       "    }\n",
       "</style>\n",
       "<table border=\"1\" class=\"dataframe\">\n",
       "  <thead>\n",
       "    <tr style=\"text-align: right;\">\n",
       "      <th></th>\n",
       "      <th>Sample</th>\n",
       "      <th>HIV</th>\n",
       "      <th>AGE</th>\n",
       "      <th>SEX</th>\n",
       "      <th>STM</th>\n",
       "      <th>INH</th>\n",
       "      <th>RIF</th>\n",
       "      <th>EMB</th>\n",
       "      <th>ART</th>\n",
       "      <th>PREV.TB_TREATMENT</th>\n",
       "      <th>...</th>\n",
       "      <th>POS_4409794</th>\n",
       "      <th>POS_4409954</th>\n",
       "      <th>POS_4410142</th>\n",
       "      <th>POS_4410178</th>\n",
       "      <th>POS_4410212</th>\n",
       "      <th>POS_4410386</th>\n",
       "      <th>POS_4410765</th>\n",
       "      <th>POS_4411016</th>\n",
       "      <th>POS_4411276</th>\n",
       "      <th>POS_4411400</th>\n",
       "    </tr>\n",
       "  </thead>\n",
       "  <tbody>\n",
       "    <tr>\n",
       "      <th>0</th>\n",
       "      <td>ERR038736</td>\n",
       "      <td>0.0</td>\n",
       "      <td>30.0</td>\n",
       "      <td>0</td>\n",
       "      <td>0.0</td>\n",
       "      <td>1.0</td>\n",
       "      <td>1.0</td>\n",
       "      <td>1.0</td>\n",
       "      <td>NaN</td>\n",
       "      <td>Y</td>\n",
       "      <td>...</td>\n",
       "      <td>0</td>\n",
       "      <td>0</td>\n",
       "      <td>0</td>\n",
       "      <td>0</td>\n",
       "      <td>0</td>\n",
       "      <td>0</td>\n",
       "      <td>0</td>\n",
       "      <td>0</td>\n",
       "      <td>0</td>\n",
       "      <td>0</td>\n",
       "    </tr>\n",
       "    <tr>\n",
       "      <th>1</th>\n",
       "      <td>ERR038737</td>\n",
       "      <td>0.0</td>\n",
       "      <td>23.0</td>\n",
       "      <td>1</td>\n",
       "      <td>0.0</td>\n",
       "      <td>1.0</td>\n",
       "      <td>1.0</td>\n",
       "      <td>0.0</td>\n",
       "      <td>NaN</td>\n",
       "      <td>Y</td>\n",
       "      <td>...</td>\n",
       "      <td>0</td>\n",
       "      <td>0</td>\n",
       "      <td>0</td>\n",
       "      <td>0</td>\n",
       "      <td>0</td>\n",
       "      <td>0</td>\n",
       "      <td>0</td>\n",
       "      <td>0</td>\n",
       "      <td>0</td>\n",
       "      <td>0</td>\n",
       "    </tr>\n",
       "    <tr>\n",
       "      <th>2</th>\n",
       "      <td>ERR038738</td>\n",
       "      <td>0.0</td>\n",
       "      <td>20.0</td>\n",
       "      <td>1</td>\n",
       "      <td>1.0</td>\n",
       "      <td>1.0</td>\n",
       "      <td>1.0</td>\n",
       "      <td>1.0</td>\n",
       "      <td>NaN</td>\n",
       "      <td>Y</td>\n",
       "      <td>...</td>\n",
       "      <td>0</td>\n",
       "      <td>0</td>\n",
       "      <td>0</td>\n",
       "      <td>0</td>\n",
       "      <td>0</td>\n",
       "      <td>0</td>\n",
       "      <td>0</td>\n",
       "      <td>0</td>\n",
       "      <td>0</td>\n",
       "      <td>0</td>\n",
       "    </tr>\n",
       "    <tr>\n",
       "      <th>3</th>\n",
       "      <td>ERR038739</td>\n",
       "      <td>0.0</td>\n",
       "      <td>27.0</td>\n",
       "      <td>1</td>\n",
       "      <td>1.0</td>\n",
       "      <td>1.0</td>\n",
       "      <td>1.0</td>\n",
       "      <td>1.0</td>\n",
       "      <td>NaN</td>\n",
       "      <td>Y</td>\n",
       "      <td>...</td>\n",
       "      <td>0</td>\n",
       "      <td>0</td>\n",
       "      <td>0</td>\n",
       "      <td>0</td>\n",
       "      <td>0</td>\n",
       "      <td>0</td>\n",
       "      <td>0</td>\n",
       "      <td>0</td>\n",
       "      <td>0</td>\n",
       "      <td>0</td>\n",
       "    </tr>\n",
       "    <tr>\n",
       "      <th>4</th>\n",
       "      <td>ERR038740</td>\n",
       "      <td>0.0</td>\n",
       "      <td>48.0</td>\n",
       "      <td>0</td>\n",
       "      <td>0.0</td>\n",
       "      <td>1.0</td>\n",
       "      <td>1.0</td>\n",
       "      <td>1.0</td>\n",
       "      <td>NaN</td>\n",
       "      <td>Y</td>\n",
       "      <td>...</td>\n",
       "      <td>0</td>\n",
       "      <td>0</td>\n",
       "      <td>0</td>\n",
       "      <td>0</td>\n",
       "      <td>0</td>\n",
       "      <td>0</td>\n",
       "      <td>0</td>\n",
       "      <td>0</td>\n",
       "      <td>0</td>\n",
       "      <td>0</td>\n",
       "    </tr>\n",
       "  </tbody>\n",
       "</table>\n",
       "<p>5 rows × 17641 columns</p>\n",
       "</div>"
      ],
      "text/plain": [
       "      Sample  HIV   AGE SEX  STM  INH  RIF  EMB  ART PREV.TB_TREATMENT  ...  \\\n",
       "0  ERR038736  0.0  30.0   0  0.0  1.0  1.0  1.0  NaN                 Y  ...   \n",
       "1  ERR038737  0.0  23.0   1  0.0  1.0  1.0  0.0  NaN                 Y  ...   \n",
       "2  ERR038738  0.0  20.0   1  1.0  1.0  1.0  1.0  NaN                 Y  ...   \n",
       "3  ERR038739  0.0  27.0   1  1.0  1.0  1.0  1.0  NaN                 Y  ...   \n",
       "4  ERR038740  0.0  48.0   0  0.0  1.0  1.0  1.0  NaN                 Y  ...   \n",
       "\n",
       "  POS_4409794 POS_4409954 POS_4410142 POS_4410178 POS_4410212 POS_4410386  \\\n",
       "0           0           0           0           0           0           0   \n",
       "1           0           0           0           0           0           0   \n",
       "2           0           0           0           0           0           0   \n",
       "3           0           0           0           0           0           0   \n",
       "4           0           0           0           0           0           0   \n",
       "\n",
       "  POS_4410765 POS_4411016 POS_4411276 POS_4411400  \n",
       "0           0           0           0           0  \n",
       "1           0           0           0           0  \n",
       "2           0           0           0           0  \n",
       "3           0           0           0           0  \n",
       "4           0           0           0           0  \n",
       "\n",
       "[5 rows x 17641 columns]"
      ]
     },
     "execution_count": 101,
     "metadata": {},
     "output_type": "execute_result"
    }
   ],
   "source": [
    "merged_data.head()"
   ]
  },
  {
   "cell_type": "code",
   "execution_count": 102,
   "metadata": {},
   "outputs": [],
   "source": [
    "merged_data.to_csv(\"Merged_snp_epi_data_edited.csv\")"
   ]
  },
  {
   "cell_type": "code",
   "execution_count": 38,
   "metadata": {},
   "outputs": [],
   "source": [
    "# Get the index of the column before 'Sample'\n",
    "#index_to_drop = merged_data.columns.get_loc('Sample') - 1\n",
    "\n",
    "# Drop the column\n",
    "#data = merged_data.drop(merged_data.columns[index_to_drop], axis=1)"
   ]
  },
  {
   "cell_type": "code",
   "execution_count": 39,
   "metadata": {},
   "outputs": [],
   "source": [
    "#data.head()"
   ]
  },
  {
   "cell_type": "code",
   "execution_count": 31,
   "metadata": {},
   "outputs": [
    {
     "data": {
      "text/plain": [
       "'3.1.0'"
      ]
     },
     "execution_count": 31,
     "metadata": {},
     "output_type": "execute_result"
    }
   ],
   "source": [
    "import pycaret\n",
    "import mlflow\n",
    "# check version\n",
    "from pycaret.utils import version\n",
    "version()"
   ]
  },
  {
   "cell_type": "code",
   "execution_count": null,
   "metadata": {},
   "outputs": [],
   "source": [
    "from pycaret.classification import *\n",
    "clf1 = setup(data=merged_data, target = 'INH', session_id=123, \n",
    "             normalize=True,\n",
    "             transformation=True,\n",
    "             bin_numeric_features = ['AGE'],\n",
    "             feature_selection = True,\n",
    "             log_experiment=True, experiment_name='Drug_resistance_prediction')\n"
   ]
  },
  {
   "cell_type": "code",
   "execution_count": null,
   "metadata": {},
   "outputs": [],
   "source": [
    "from pycaret.classification import *\n",
    "clf1 = setup(data=merged_data, target = 'INH')"
   ]
  },
  {
   "cell_type": "code",
   "execution_count": 41,
   "metadata": {},
   "outputs": [],
   "source": [
    "#pip install mlflow"
   ]
  },
  {
   "cell_type": "code",
   "execution_count": null,
   "metadata": {},
   "outputs": [],
   "source": [
    "# sample 5% of data to be used as unseen data\n",
    "data = merged_data.sample(frac=0.95, random_state=786)\n",
    "data_unseen = merged_data.drop(data.index)\n",
    "data.reset_index(inplace=True, drop=True)\n",
    "data_unseen.reset_index(inplace=True, drop=True)\n",
    "# print the revised shape\n",
    "print('Data for Modeling: ' + str(data.shape))\n",
    "print('Unseen Data For Predictions: ' + str(data_unseen.shape))"
   ]
  }
 ],
 "metadata": {
  "kernelspec": {
   "display_name": "Python 3 (ipykernel)",
   "language": "python",
   "name": "python3"
  },
  "language_info": {
   "codemirror_mode": {
    "name": "ipython",
    "version": 3
   },
   "file_extension": ".py",
   "mimetype": "text/x-python",
   "name": "python",
   "nbconvert_exporter": "python",
   "pygments_lexer": "ipython3",
   "version": "3.10.12"
  }
 },
 "nbformat": 4,
 "nbformat_minor": 4
}
